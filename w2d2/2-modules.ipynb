{
 "cells": [
  {
   "cell_type": "code",
   "execution_count": 47,
   "metadata": {},
   "outputs": [],
   "source": [
    "import torch as t\n",
    "from torch import nn\n",
    "\n",
    "from typing import Union, List\n",
    "\n",
    "import utils"
   ]
  },
  {
   "cell_type": "code",
   "execution_count": 17,
   "metadata": {},
   "outputs": [],
   "source": [
    "class Embedding(nn.Module):\n",
    "\n",
    "    def __init__(self, num_embeddings: int, embedding_dim: int):\n",
    "        super().__init__()\n",
    "        self.num_embeddings = num_embeddings\n",
    "        self.embedding_dim = embedding_dim\n",
    "        self.weight = nn.Parameter(t.randn(num_embeddings, embedding_dim))\n",
    "\n",
    "    def forward(self, x: t.LongTensor) -> t.Tensor:\n",
    "        '''For each integer in the input, return that row of the embedding.\n",
    "        '''\n",
    "        return t.index_select(self.weight, 0, x)\n",
    "\n",
    "    def extra_repr(self) -> str:\n",
    "        params_to_print = [\"num_embeddings\", \"embedding_dim\"]\n",
    "        params_string = ', '.join([f'{p}={getattr(self, p)}' for p in params_to_print])\n",
    "        return f'{params_string}'\n",
    "\n",
    "utils.test_embedding(Embedding)"
   ]
  },
  {
   "cell_type": "code",
   "execution_count": 45,
   "metadata": {},
   "outputs": [],
   "source": [
    "class GELU(nn.Module):\n",
    "    def forward(self, x: t.Tensor) -> t.Tensor:\n",
    "        return 0.5 * x * (1 + t.tanh((t.sqrt(t.tensor(2) / t.pi)) * (x + 0.044715 * x ** 3)))\n",
    "\n",
    "\n",
    "# Testing\n",
    "x = t.linspace(-5, 10, 200)\n",
    "t.testing.assert_close(\n",
    "    GELU()(x),\n",
    "    t.nn.functional.gelu(x, approximate='tanh')\n",
    ")"
   ]
  },
  {
   "cell_type": "code",
   "execution_count": 181,
   "metadata": {},
   "outputs": [
    {
     "name": "stdout",
     "output_type": "stream",
     "text": [
      "All tests in `test_layernorm_mean_1d` passed.\n",
      "All tests in `test_layernorm_mean_2d` passed.\n",
      "All tests in `test_layernorm_std` passed.\n",
      "All tests in `test_layernorm_exact` passed.\n",
      "All tests in `test_layernorm_backward` passed.\n"
     ]
    }
   ],
   "source": [
    "class LayerNorm(nn.Module):\n",
    "    def __init__(self,\n",
    "        normalized_shape: Union[int, List[int]],\n",
    "        eps: float = 1e-05,\n",
    "        elementwise_affine: bool = True\n",
    "    ):\n",
    "        super().__init__()\n",
    "        if isinstance(normalized_shape, int):\n",
    "            normalized_shape = (normalized_shape,)\n",
    "        self.normalized_shape = normalized_shape\n",
    "        self.eps = eps\n",
    "        self.elementwise_affine = elementwise_affine\n",
    "\n",
    "        if self.elementwise_affine:\n",
    "            self.weight = nn.Parameter(t.ones(normalized_shape))\n",
    "            self.bias = nn.Parameter(t.zeros(normalized_shape))\n",
    "\n",
    "    def forward(self, x: t.Tensor) -> t.Tensor:\n",
    "        dims = tuple(range(x.dim()-len(self.normalized_shape), x.dim()))\n",
    "        mean = x.mean(dim=dims, keepdim=True)\n",
    "        var = x.var(dim=dims, unbiased=False, keepdim=True)\n",
    "\n",
    "        x = (x - mean) / t.sqrt(var + self.eps)\n",
    "        if self.elementwise_affine:\n",
    "            x = x * self.weight + self.bias\n",
    "        return x\n",
    "\n",
    "utils.test_layernorm_mean_1d(LayerNorm)\n",
    "utils.test_layernorm_mean_2d(LayerNorm)\n",
    "utils.test_layernorm_std(LayerNorm)\n",
    "utils.test_layernorm_exact(LayerNorm)\n",
    "utils.test_layernorm_backward(LayerNorm)"
   ]
  },
  {
   "cell_type": "code",
   "execution_count": 65,
   "metadata": {},
   "outputs": [
    {
     "name": "stdout",
     "output_type": "stream",
     "text": [
      "All tests in `test_dropout_eval` passed.\n",
      "All tests in `test_dropout_training` passed.\n"
     ]
    }
   ],
   "source": [
    "class Dropout(nn.Module):\n",
    "    def __init__(self, p: float):\n",
    "        super().__init__()\n",
    "        assert 0 <= p < 1\n",
    "        self.p = p\n",
    "\n",
    "    def forward(self, x: t.Tensor) -> t.Tensor:\n",
    "        if self.training:\n",
    "            mask = (t.rand_like(x) < self.p)\n",
    "            return t.where(mask, 0.0, x / (1 - self.p))\n",
    "        else:\n",
    "            return x\n",
    "\n",
    "utils.test_dropout_eval(Dropout)\n",
    "utils.test_dropout_training(Dropout)"
   ]
  },
  {
   "cell_type": "code",
   "execution_count": null,
   "metadata": {},
   "outputs": [],
   "source": []
  },
  {
   "cell_type": "code",
   "execution_count": null,
   "metadata": {},
   "outputs": [],
   "source": []
  }
 ],
 "metadata": {
  "kernelspec": {
   "display_name": "Python 3.7.12 ('arena')",
   "language": "python",
   "name": "python3"
  },
  "language_info": {
   "codemirror_mode": {
    "name": "ipython",
    "version": 3
   },
   "file_extension": ".py",
   "mimetype": "text/x-python",
   "name": "python",
   "nbconvert_exporter": "python",
   "pygments_lexer": "ipython3",
   "version": "3.7.12"
  },
  "orig_nbformat": 4,
  "vscode": {
   "interpreter": {
    "hash": "84205e65a427e19ff91dd8a92d5a5f2cf0946f21e31957c24c166022f0f50b37"
   }
  }
 },
 "nbformat": 4,
 "nbformat_minor": 2
}
