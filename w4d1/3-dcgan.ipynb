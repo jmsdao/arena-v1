{
  "nbformat": 4,
  "nbformat_minor": 0,
  "metadata": {
    "colab": {
      "provenance": []
    },
    "kernelspec": {
      "name": "python3",
      "display_name": "Python 3"
    },
    "language_info": {
      "name": "python"
    },
    "gpuClass": "standard",
    "accelerator": "GPU",
    "widgets": {
      "application/vnd.jupyter.widget-state+json": {
        "4e7fda32fad64caa9197eab5c12b6884": {
          "model_module": "@jupyter-widgets/controls",
          "model_name": "HBoxModel",
          "model_module_version": "1.5.0",
          "state": {
            "_dom_classes": [],
            "_model_module": "@jupyter-widgets/controls",
            "_model_module_version": "1.5.0",
            "_model_name": "HBoxModel",
            "_view_count": null,
            "_view_module": "@jupyter-widgets/controls",
            "_view_module_version": "1.5.0",
            "_view_name": "HBoxView",
            "box_style": "",
            "children": [
              "IPY_MODEL_1ceb5cacb87c4061bc725acffe706521",
              "IPY_MODEL_4e7cf9b261414d65afc2602fb307286c",
              "IPY_MODEL_cb5ad73527b44eb7b907c1996c677ea6"
            ],
            "layout": "IPY_MODEL_8a5de85a471747e5b7fea400b294ef97"
          }
        },
        "1ceb5cacb87c4061bc725acffe706521": {
          "model_module": "@jupyter-widgets/controls",
          "model_name": "HTMLModel",
          "model_module_version": "1.5.0",
          "state": {
            "_dom_classes": [],
            "_model_module": "@jupyter-widgets/controls",
            "_model_module_version": "1.5.0",
            "_model_name": "HTMLModel",
            "_view_count": null,
            "_view_module": "@jupyter-widgets/controls",
            "_view_module_version": "1.5.0",
            "_view_name": "HTMLView",
            "description": "",
            "description_tooltip": null,
            "layout": "IPY_MODEL_f1896aaa87d2446ebc733fd34af32cc3",
            "placeholder": "​",
            "style": "IPY_MODEL_8c3a8f2213f34c1eac96324149e6fb1e",
            "value": "100%"
          }
        },
        "4e7cf9b261414d65afc2602fb307286c": {
          "model_module": "@jupyter-widgets/controls",
          "model_name": "FloatProgressModel",
          "model_module_version": "1.5.0",
          "state": {
            "_dom_classes": [],
            "_model_module": "@jupyter-widgets/controls",
            "_model_module_version": "1.5.0",
            "_model_name": "FloatProgressModel",
            "_view_count": null,
            "_view_module": "@jupyter-widgets/controls",
            "_view_module_version": "1.5.0",
            "_view_name": "ProgressView",
            "bar_style": "success",
            "description": "",
            "description_tooltip": null,
            "layout": "IPY_MODEL_e49cb566866a4d85ba80f99a763c893a",
            "max": 1,
            "min": 0,
            "orientation": "horizontal",
            "style": "IPY_MODEL_3213a1fdebff4a199363950415aa3788",
            "value": 1
          }
        },
        "cb5ad73527b44eb7b907c1996c677ea6": {
          "model_module": "@jupyter-widgets/controls",
          "model_name": "HTMLModel",
          "model_module_version": "1.5.0",
          "state": {
            "_dom_classes": [],
            "_model_module": "@jupyter-widgets/controls",
            "_model_module_version": "1.5.0",
            "_model_name": "HTMLModel",
            "_view_count": null,
            "_view_module": "@jupyter-widgets/controls",
            "_view_module_version": "1.5.0",
            "_view_name": "HTMLView",
            "description": "",
            "description_tooltip": null,
            "layout": "IPY_MODEL_3d5095b9176442d7acef91712b7e3cd5",
            "placeholder": "​",
            "style": "IPY_MODEL_fce626ca91694813a085a178893406e9",
            "value": " 1/1 [06:49&lt;00:00, 409.14s/it]"
          }
        },
        "8a5de85a471747e5b7fea400b294ef97": {
          "model_module": "@jupyter-widgets/base",
          "model_name": "LayoutModel",
          "model_module_version": "1.2.0",
          "state": {
            "_model_module": "@jupyter-widgets/base",
            "_model_module_version": "1.2.0",
            "_model_name": "LayoutModel",
            "_view_count": null,
            "_view_module": "@jupyter-widgets/base",
            "_view_module_version": "1.2.0",
            "_view_name": "LayoutView",
            "align_content": null,
            "align_items": null,
            "align_self": null,
            "border": null,
            "bottom": null,
            "display": null,
            "flex": null,
            "flex_flow": null,
            "grid_area": null,
            "grid_auto_columns": null,
            "grid_auto_flow": null,
            "grid_auto_rows": null,
            "grid_column": null,
            "grid_gap": null,
            "grid_row": null,
            "grid_template_areas": null,
            "grid_template_columns": null,
            "grid_template_rows": null,
            "height": null,
            "justify_content": null,
            "justify_items": null,
            "left": null,
            "margin": null,
            "max_height": null,
            "max_width": null,
            "min_height": null,
            "min_width": null,
            "object_fit": null,
            "object_position": null,
            "order": null,
            "overflow": null,
            "overflow_x": null,
            "overflow_y": null,
            "padding": null,
            "right": null,
            "top": null,
            "visibility": null,
            "width": null
          }
        },
        "f1896aaa87d2446ebc733fd34af32cc3": {
          "model_module": "@jupyter-widgets/base",
          "model_name": "LayoutModel",
          "model_module_version": "1.2.0",
          "state": {
            "_model_module": "@jupyter-widgets/base",
            "_model_module_version": "1.2.0",
            "_model_name": "LayoutModel",
            "_view_count": null,
            "_view_module": "@jupyter-widgets/base",
            "_view_module_version": "1.2.0",
            "_view_name": "LayoutView",
            "align_content": null,
            "align_items": null,
            "align_self": null,
            "border": null,
            "bottom": null,
            "display": null,
            "flex": null,
            "flex_flow": null,
            "grid_area": null,
            "grid_auto_columns": null,
            "grid_auto_flow": null,
            "grid_auto_rows": null,
            "grid_column": null,
            "grid_gap": null,
            "grid_row": null,
            "grid_template_areas": null,
            "grid_template_columns": null,
            "grid_template_rows": null,
            "height": null,
            "justify_content": null,
            "justify_items": null,
            "left": null,
            "margin": null,
            "max_height": null,
            "max_width": null,
            "min_height": null,
            "min_width": null,
            "object_fit": null,
            "object_position": null,
            "order": null,
            "overflow": null,
            "overflow_x": null,
            "overflow_y": null,
            "padding": null,
            "right": null,
            "top": null,
            "visibility": null,
            "width": null
          }
        },
        "8c3a8f2213f34c1eac96324149e6fb1e": {
          "model_module": "@jupyter-widgets/controls",
          "model_name": "DescriptionStyleModel",
          "model_module_version": "1.5.0",
          "state": {
            "_model_module": "@jupyter-widgets/controls",
            "_model_module_version": "1.5.0",
            "_model_name": "DescriptionStyleModel",
            "_view_count": null,
            "_view_module": "@jupyter-widgets/base",
            "_view_module_version": "1.2.0",
            "_view_name": "StyleView",
            "description_width": ""
          }
        },
        "e49cb566866a4d85ba80f99a763c893a": {
          "model_module": "@jupyter-widgets/base",
          "model_name": "LayoutModel",
          "model_module_version": "1.2.0",
          "state": {
            "_model_module": "@jupyter-widgets/base",
            "_model_module_version": "1.2.0",
            "_model_name": "LayoutModel",
            "_view_count": null,
            "_view_module": "@jupyter-widgets/base",
            "_view_module_version": "1.2.0",
            "_view_name": "LayoutView",
            "align_content": null,
            "align_items": null,
            "align_self": null,
            "border": null,
            "bottom": null,
            "display": null,
            "flex": null,
            "flex_flow": null,
            "grid_area": null,
            "grid_auto_columns": null,
            "grid_auto_flow": null,
            "grid_auto_rows": null,
            "grid_column": null,
            "grid_gap": null,
            "grid_row": null,
            "grid_template_areas": null,
            "grid_template_columns": null,
            "grid_template_rows": null,
            "height": null,
            "justify_content": null,
            "justify_items": null,
            "left": null,
            "margin": null,
            "max_height": null,
            "max_width": null,
            "min_height": null,
            "min_width": null,
            "object_fit": null,
            "object_position": null,
            "order": null,
            "overflow": null,
            "overflow_x": null,
            "overflow_y": null,
            "padding": null,
            "right": null,
            "top": null,
            "visibility": null,
            "width": null
          }
        },
        "3213a1fdebff4a199363950415aa3788": {
          "model_module": "@jupyter-widgets/controls",
          "model_name": "ProgressStyleModel",
          "model_module_version": "1.5.0",
          "state": {
            "_model_module": "@jupyter-widgets/controls",
            "_model_module_version": "1.5.0",
            "_model_name": "ProgressStyleModel",
            "_view_count": null,
            "_view_module": "@jupyter-widgets/base",
            "_view_module_version": "1.2.0",
            "_view_name": "StyleView",
            "bar_color": null,
            "description_width": ""
          }
        },
        "3d5095b9176442d7acef91712b7e3cd5": {
          "model_module": "@jupyter-widgets/base",
          "model_name": "LayoutModel",
          "model_module_version": "1.2.0",
          "state": {
            "_model_module": "@jupyter-widgets/base",
            "_model_module_version": "1.2.0",
            "_model_name": "LayoutModel",
            "_view_count": null,
            "_view_module": "@jupyter-widgets/base",
            "_view_module_version": "1.2.0",
            "_view_name": "LayoutView",
            "align_content": null,
            "align_items": null,
            "align_self": null,
            "border": null,
            "bottom": null,
            "display": null,
            "flex": null,
            "flex_flow": null,
            "grid_area": null,
            "grid_auto_columns": null,
            "grid_auto_flow": null,
            "grid_auto_rows": null,
            "grid_column": null,
            "grid_gap": null,
            "grid_row": null,
            "grid_template_areas": null,
            "grid_template_columns": null,
            "grid_template_rows": null,
            "height": null,
            "justify_content": null,
            "justify_items": null,
            "left": null,
            "margin": null,
            "max_height": null,
            "max_width": null,
            "min_height": null,
            "min_width": null,
            "object_fit": null,
            "object_position": null,
            "order": null,
            "overflow": null,
            "overflow_x": null,
            "overflow_y": null,
            "padding": null,
            "right": null,
            "top": null,
            "visibility": null,
            "width": null
          }
        },
        "fce626ca91694813a085a178893406e9": {
          "model_module": "@jupyter-widgets/controls",
          "model_name": "DescriptionStyleModel",
          "model_module_version": "1.5.0",
          "state": {
            "_model_module": "@jupyter-widgets/controls",
            "_model_module_version": "1.5.0",
            "_model_name": "DescriptionStyleModel",
            "_view_count": null,
            "_view_module": "@jupyter-widgets/base",
            "_view_module_version": "1.2.0",
            "_view_name": "StyleView",
            "description_width": ""
          }
        },
        "691193350ce04bda876e1078d2fe2830": {
          "model_module": "@jupyter-widgets/controls",
          "model_name": "HBoxModel",
          "model_module_version": "1.5.0",
          "state": {
            "_dom_classes": [],
            "_model_module": "@jupyter-widgets/controls",
            "_model_module_version": "1.5.0",
            "_model_name": "HBoxModel",
            "_view_count": null,
            "_view_module": "@jupyter-widgets/controls",
            "_view_module_version": "1.5.0",
            "_view_name": "HBoxView",
            "box_style": "",
            "children": [
              "IPY_MODEL_6a31e6ec57584a4290bb1f6e6cc5084d",
              "IPY_MODEL_dc11fb47ce6b4ef89d05f39d137f6bed",
              "IPY_MODEL_afd7b4ae092d4785b68d4f1abd745c7c"
            ],
            "layout": "IPY_MODEL_0e772680f42e44e6b7175d1080ff6d65"
          }
        },
        "6a31e6ec57584a4290bb1f6e6cc5084d": {
          "model_module": "@jupyter-widgets/controls",
          "model_name": "HTMLModel",
          "model_module_version": "1.5.0",
          "state": {
            "_dom_classes": [],
            "_model_module": "@jupyter-widgets/controls",
            "_model_module_version": "1.5.0",
            "_model_name": "HTMLModel",
            "_view_count": null,
            "_view_module": "@jupyter-widgets/controls",
            "_view_module_version": "1.5.0",
            "_view_name": "HTMLView",
            "description": "",
            "description_tooltip": null,
            "layout": "IPY_MODEL_46b6a4f0ee064ba4a3a80575ce8921f0",
            "placeholder": "​",
            "style": "IPY_MODEL_1bd1d2db32af4e88844b4b966d1a31b1",
            "value": "lossD=0.6445, lossG=2.7059: 100%"
          }
        },
        "dc11fb47ce6b4ef89d05f39d137f6bed": {
          "model_module": "@jupyter-widgets/controls",
          "model_name": "FloatProgressModel",
          "model_module_version": "1.5.0",
          "state": {
            "_dom_classes": [],
            "_model_module": "@jupyter-widgets/controls",
            "_model_module_version": "1.5.0",
            "_model_name": "FloatProgressModel",
            "_view_count": null,
            "_view_module": "@jupyter-widgets/controls",
            "_view_module_version": "1.5.0",
            "_view_name": "ProgressView",
            "bar_style": "success",
            "description": "",
            "description_tooltip": null,
            "layout": "IPY_MODEL_6643e9c362cf439c808ecb8d4b931b2c",
            "max": 1583,
            "min": 0,
            "orientation": "horizontal",
            "style": "IPY_MODEL_892eefafb29843fbb7aa615023266ce2",
            "value": 1583
          }
        },
        "afd7b4ae092d4785b68d4f1abd745c7c": {
          "model_module": "@jupyter-widgets/controls",
          "model_name": "HTMLModel",
          "model_module_version": "1.5.0",
          "state": {
            "_dom_classes": [],
            "_model_module": "@jupyter-widgets/controls",
            "_model_module_version": "1.5.0",
            "_model_name": "HTMLModel",
            "_view_count": null,
            "_view_module": "@jupyter-widgets/controls",
            "_view_module_version": "1.5.0",
            "_view_name": "HTMLView",
            "description": "",
            "description_tooltip": null,
            "layout": "IPY_MODEL_3bc81c0b782b4a6e809905f029109bfb",
            "placeholder": "​",
            "style": "IPY_MODEL_a4f263bad2c9405f8a81d946d7a5e48c",
            "value": " 1583/1583 [06:49&lt;00:00,  4.06it/s]"
          }
        },
        "0e772680f42e44e6b7175d1080ff6d65": {
          "model_module": "@jupyter-widgets/base",
          "model_name": "LayoutModel",
          "model_module_version": "1.2.0",
          "state": {
            "_model_module": "@jupyter-widgets/base",
            "_model_module_version": "1.2.0",
            "_model_name": "LayoutModel",
            "_view_count": null,
            "_view_module": "@jupyter-widgets/base",
            "_view_module_version": "1.2.0",
            "_view_name": "LayoutView",
            "align_content": null,
            "align_items": null,
            "align_self": null,
            "border": null,
            "bottom": null,
            "display": null,
            "flex": null,
            "flex_flow": null,
            "grid_area": null,
            "grid_auto_columns": null,
            "grid_auto_flow": null,
            "grid_auto_rows": null,
            "grid_column": null,
            "grid_gap": null,
            "grid_row": null,
            "grid_template_areas": null,
            "grid_template_columns": null,
            "grid_template_rows": null,
            "height": null,
            "justify_content": null,
            "justify_items": null,
            "left": null,
            "margin": null,
            "max_height": null,
            "max_width": null,
            "min_height": null,
            "min_width": null,
            "object_fit": null,
            "object_position": null,
            "order": null,
            "overflow": null,
            "overflow_x": null,
            "overflow_y": null,
            "padding": null,
            "right": null,
            "top": null,
            "visibility": null,
            "width": null
          }
        },
        "46b6a4f0ee064ba4a3a80575ce8921f0": {
          "model_module": "@jupyter-widgets/base",
          "model_name": "LayoutModel",
          "model_module_version": "1.2.0",
          "state": {
            "_model_module": "@jupyter-widgets/base",
            "_model_module_version": "1.2.0",
            "_model_name": "LayoutModel",
            "_view_count": null,
            "_view_module": "@jupyter-widgets/base",
            "_view_module_version": "1.2.0",
            "_view_name": "LayoutView",
            "align_content": null,
            "align_items": null,
            "align_self": null,
            "border": null,
            "bottom": null,
            "display": null,
            "flex": null,
            "flex_flow": null,
            "grid_area": null,
            "grid_auto_columns": null,
            "grid_auto_flow": null,
            "grid_auto_rows": null,
            "grid_column": null,
            "grid_gap": null,
            "grid_row": null,
            "grid_template_areas": null,
            "grid_template_columns": null,
            "grid_template_rows": null,
            "height": null,
            "justify_content": null,
            "justify_items": null,
            "left": null,
            "margin": null,
            "max_height": null,
            "max_width": null,
            "min_height": null,
            "min_width": null,
            "object_fit": null,
            "object_position": null,
            "order": null,
            "overflow": null,
            "overflow_x": null,
            "overflow_y": null,
            "padding": null,
            "right": null,
            "top": null,
            "visibility": null,
            "width": null
          }
        },
        "1bd1d2db32af4e88844b4b966d1a31b1": {
          "model_module": "@jupyter-widgets/controls",
          "model_name": "DescriptionStyleModel",
          "model_module_version": "1.5.0",
          "state": {
            "_model_module": "@jupyter-widgets/controls",
            "_model_module_version": "1.5.0",
            "_model_name": "DescriptionStyleModel",
            "_view_count": null,
            "_view_module": "@jupyter-widgets/base",
            "_view_module_version": "1.2.0",
            "_view_name": "StyleView",
            "description_width": ""
          }
        },
        "6643e9c362cf439c808ecb8d4b931b2c": {
          "model_module": "@jupyter-widgets/base",
          "model_name": "LayoutModel",
          "model_module_version": "1.2.0",
          "state": {
            "_model_module": "@jupyter-widgets/base",
            "_model_module_version": "1.2.0",
            "_model_name": "LayoutModel",
            "_view_count": null,
            "_view_module": "@jupyter-widgets/base",
            "_view_module_version": "1.2.0",
            "_view_name": "LayoutView",
            "align_content": null,
            "align_items": null,
            "align_self": null,
            "border": null,
            "bottom": null,
            "display": null,
            "flex": null,
            "flex_flow": null,
            "grid_area": null,
            "grid_auto_columns": null,
            "grid_auto_flow": null,
            "grid_auto_rows": null,
            "grid_column": null,
            "grid_gap": null,
            "grid_row": null,
            "grid_template_areas": null,
            "grid_template_columns": null,
            "grid_template_rows": null,
            "height": null,
            "justify_content": null,
            "justify_items": null,
            "left": null,
            "margin": null,
            "max_height": null,
            "max_width": null,
            "min_height": null,
            "min_width": null,
            "object_fit": null,
            "object_position": null,
            "order": null,
            "overflow": null,
            "overflow_x": null,
            "overflow_y": null,
            "padding": null,
            "right": null,
            "top": null,
            "visibility": null,
            "width": null
          }
        },
        "892eefafb29843fbb7aa615023266ce2": {
          "model_module": "@jupyter-widgets/controls",
          "model_name": "ProgressStyleModel",
          "model_module_version": "1.5.0",
          "state": {
            "_model_module": "@jupyter-widgets/controls",
            "_model_module_version": "1.5.0",
            "_model_name": "ProgressStyleModel",
            "_view_count": null,
            "_view_module": "@jupyter-widgets/base",
            "_view_module_version": "1.2.0",
            "_view_name": "StyleView",
            "bar_color": null,
            "description_width": ""
          }
        },
        "3bc81c0b782b4a6e809905f029109bfb": {
          "model_module": "@jupyter-widgets/base",
          "model_name": "LayoutModel",
          "model_module_version": "1.2.0",
          "state": {
            "_model_module": "@jupyter-widgets/base",
            "_model_module_version": "1.2.0",
            "_model_name": "LayoutModel",
            "_view_count": null,
            "_view_module": "@jupyter-widgets/base",
            "_view_module_version": "1.2.0",
            "_view_name": "LayoutView",
            "align_content": null,
            "align_items": null,
            "align_self": null,
            "border": null,
            "bottom": null,
            "display": null,
            "flex": null,
            "flex_flow": null,
            "grid_area": null,
            "grid_auto_columns": null,
            "grid_auto_flow": null,
            "grid_auto_rows": null,
            "grid_column": null,
            "grid_gap": null,
            "grid_row": null,
            "grid_template_areas": null,
            "grid_template_columns": null,
            "grid_template_rows": null,
            "height": null,
            "justify_content": null,
            "justify_items": null,
            "left": null,
            "margin": null,
            "max_height": null,
            "max_width": null,
            "min_height": null,
            "min_width": null,
            "object_fit": null,
            "object_position": null,
            "order": null,
            "overflow": null,
            "overflow_x": null,
            "overflow_y": null,
            "padding": null,
            "right": null,
            "top": null,
            "visibility": null,
            "width": null
          }
        },
        "a4f263bad2c9405f8a81d946d7a5e48c": {
          "model_module": "@jupyter-widgets/controls",
          "model_name": "DescriptionStyleModel",
          "model_module_version": "1.5.0",
          "state": {
            "_model_module": "@jupyter-widgets/controls",
            "_model_module_version": "1.5.0",
            "_model_name": "DescriptionStyleModel",
            "_view_count": null,
            "_view_module": "@jupyter-widgets/base",
            "_view_module_version": "1.2.0",
            "_view_name": "StyleView",
            "description_width": ""
          }
        }
      }
    }
  },
  "cells": [
    {
      "cell_type": "code",
      "source": [
        "# TODO: Try randn instead of rand for the noise generator"
      ],
      "metadata": {
        "id": "jZthdHkhhFkO"
      },
      "execution_count": null,
      "outputs": []
    },
    {
      "cell_type": "code",
      "source": [
        "# Originally run in Google Colab"
      ],
      "metadata": {
        "id": "H9K2c-aVJHum"
      },
      "execution_count": null,
      "outputs": []
    },
    {
      "cell_type": "code",
      "source": [
        "# Bash to download img_align_celeba.zip from the url:\n",
        "# https://cseweb.ucsd.edu/~weijian/static/datasets/celeba/img_align_celeba.zip\n",
        "!wget https://cseweb.ucsd.edu/~weijian/static/datasets/celeba/img_align_celeba.zip"
      ],
      "metadata": {
        "colab": {
          "base_uri": "https://localhost:8080/"
        },
        "id": "zHg-_edEUWi8",
        "outputId": "e2e103c4-bc45-491f-d668-8d890fa197a7"
      },
      "execution_count": 3,
      "outputs": [
        {
          "output_type": "stream",
          "name": "stdout",
          "text": [
            "--2022-11-16 13:17:06--  https://cseweb.ucsd.edu/~weijian/static/datasets/celeba/img_align_celeba.zip\n",
            "Resolving cseweb.ucsd.edu (cseweb.ucsd.edu)... 132.239.8.30\n",
            "Connecting to cseweb.ucsd.edu (cseweb.ucsd.edu)|132.239.8.30|:443... connected.\n",
            "HTTP request sent, awaiting response... 200 OK\n",
            "Length: 1443490838 (1.3G) [application/zip]\n",
            "Saving to: ‘img_align_celeba.zip’\n",
            "\n",
            "img_align_celeba.zi 100%[===================>]   1.34G  4.25MB/s    in 4m 7s   \n",
            "\n",
            "2022-11-16 13:21:14 (5.56 MB/s) - ‘img_align_celeba.zip’ saved [1443490838/1443490838]\n",
            "\n"
          ]
        }
      ]
    },
    {
      "cell_type": "code",
      "source": [
        "!unzip -q img_align_celeba.zip"
      ],
      "metadata": {
        "id": "eAHZ8TQB2rTt"
      },
      "execution_count": 4,
      "outputs": []
    },
    {
      "cell_type": "code",
      "source": [
        "# Image folder needs to be in a subfolder for torchvision.dataset.ImageFolder\n",
        "!mkdir data\n",
        "!mv img_align_celeba data"
      ],
      "metadata": {
        "id": "qFYJBwZcJPw4"
      },
      "execution_count": 5,
      "outputs": []
    },
    {
      "cell_type": "code",
      "source": [
        "# Get relevant utils.py file\n",
        "!wget https://raw.githubusercontent.com/callummcdougall/arena-v1/main/w4d1/utils.py"
      ],
      "metadata": {
        "colab": {
          "base_uri": "https://localhost:8080/"
        },
        "id": "lJ0tF0O_rKCU",
        "outputId": "2a9deb21-8125-4078-94d8-9459eeb73df9"
      },
      "execution_count": 6,
      "outputs": [
        {
          "output_type": "stream",
          "name": "stdout",
          "text": [
            "--2022-11-16 13:21:36--  https://raw.githubusercontent.com/callummcdougall/arena-v1/main/w4d1/utils.py\n",
            "Resolving raw.githubusercontent.com (raw.githubusercontent.com)... 185.199.108.133, 185.199.109.133, 185.199.110.133, ...\n",
            "Connecting to raw.githubusercontent.com (raw.githubusercontent.com)|185.199.108.133|:443... connected.\n",
            "HTTP request sent, awaiting response... 200 OK\n",
            "Length: 9325 (9.1K) [text/plain]\n",
            "Saving to: ‘utils.py’\n",
            "\n",
            "utils.py            100%[===================>]   9.11K  --.-KB/s    in 0s      \n",
            "\n",
            "2022-11-16 13:21:37 (105 MB/s) - ‘utils.py’ saved [9325/9325]\n",
            "\n"
          ]
        }
      ]
    },
    {
      "cell_type": "code",
      "source": [
        "# Install required packages\n",
        "!pip install einops"
      ],
      "metadata": {
        "colab": {
          "base_uri": "https://localhost:8080/"
        },
        "id": "yQSMoxeG3VeY",
        "outputId": "e5a9876f-f5a5-4357-e6ef-b455fa847efb"
      },
      "execution_count": 1,
      "outputs": [
        {
          "output_type": "stream",
          "name": "stdout",
          "text": [
            "Looking in indexes: https://pypi.org/simple, https://us-python.pkg.dev/colab-wheels/public/simple/\n",
            "Collecting einops\n",
            "  Downloading einops-0.6.0-py3-none-any.whl (41 kB)\n",
            "\u001b[K     |████████████████████████████████| 41 kB 507 kB/s \n",
            "\u001b[?25hInstalling collected packages: einops\n",
            "Successfully installed einops-0.6.0\n"
          ]
        }
      ]
    },
    {
      "cell_type": "code",
      "source": [
        "import torch as t\n",
        "import torch.nn as nn\n",
        "from torchvision import transforms, datasets\n",
        "\n",
        "from typing import Tuple, Optional, Union\n",
        "from collections import OrderedDict\n",
        "from einops import rearrange\n",
        "from einops.layers.torch import Rearrange\n",
        "from tqdm.notebook import tqdm_notebook\n",
        "\n",
        "import utils"
      ],
      "metadata": {
        "id": "SwSK_K4JUWl-"
      },
      "execution_count": 7,
      "outputs": []
    },
    {
      "cell_type": "code",
      "source": [
        "class Generator(nn.Module):\n",
        "    def __init__(self,\n",
        "        latent_dim_size: int = 100,\n",
        "        out_channels: int = 3,\n",
        "        conv_channels: Tuple[int] = [1024, 512, 256, 128],\n",
        "    ):\n",
        "        super().__init__()\n",
        "        self.latent_dim_size = latent_dim_size\n",
        "\n",
        "        self.model = nn.Sequential(\n",
        "            # Conv 1: (batch, latent_dim_size, 1, 1) -> (batch, conv_channels[0], 4, 4)\n",
        "            nn.ConvTranspose2d(latent_dim_size, conv_channels[0], (4, 4), stride=(1, 1), padding=(0, 0), bias=False),\n",
        "            nn.BatchNorm2d(conv_channels[0]),\n",
        "            nn.ReLU(),\n",
        "            # Conv 2: (batch, conv_channels[0], 4, 4) -> (batch, conv_channels[1], 8, 8)\n",
        "            nn.ConvTranspose2d(conv_channels[0], conv_channels[1], (4, 4), stride=(2, 2), padding=(1, 1), bias=False),\n",
        "            nn.BatchNorm2d(conv_channels[1]),\n",
        "            nn.ReLU(),\n",
        "            # Conv 3: (batch, conv_channels[1], 8, 8) -> (batch, conv_channels[2], 16, 16)\n",
        "            nn.ConvTranspose2d(conv_channels[1], conv_channels[2], (4, 4), stride=(2, 2), padding=(1, 1), bias=False),\n",
        "            nn.BatchNorm2d(conv_channels[2]),\n",
        "            nn.ReLU(),\n",
        "            # Conv 4: (batch, conv_channels[2], 16, 16) -> (batch, conv_channels[3], 32, 32)\n",
        "            nn.ConvTranspose2d(conv_channels[2], conv_channels[3], (4, 4), stride=(2, 2), padding=(1, 1), bias=False),\n",
        "            nn.BatchNorm2d(conv_channels[3]),\n",
        "            nn.ReLU(),\n",
        "            # Final projection: (batch, conv_channels[3], 32, 32) -> (batch, out_channels, 64, 64)\n",
        "            nn.ConvTranspose2d(conv_channels[3], out_channels, (4, 4), stride=(2, 2), padding=(1, 1), bias=False),\n",
        "            nn.Tanh(),\n",
        "        )\n",
        "\n",
        "    def forward(self, x: t.Tensor) -> t.Tensor:\n",
        "        if x.dim() == 1:\n",
        "            x = rearrange(x, 'ch -> 1 ch 1 1')\n",
        "        elif x.dim() == 2:\n",
        "            x = rearrange(x, 'batch ch -> batch ch 1 1')\n",
        "        return self.model(x)\n",
        "\n",
        "\n",
        "class Discriminator(nn.Module):\n",
        "    def __init__(self,\n",
        "        in_channels: int = 3,\n",
        "        conv_channels: Tuple[int] = [128, 256, 512, 1024],\n",
        "    ):\n",
        "        super().__init__()\n",
        "        self.model = nn.Sequential(\n",
        "            # Conv 1: (batch, in_channels, 64, 64) -> (batch, conv_channels[0], 32, 32)\n",
        "            nn.Conv2d(in_channels, conv_channels[0], (4, 4), stride=(2, 2), padding=(1, 1), bias=False),\n",
        "            nn.BatchNorm2d(conv_channels[0]),\n",
        "            nn.LeakyReLU(0.2),\n",
        "            # Conv 2: (batch, conv_channels[0], 32, 32) -> (batch, conv_channels[1], 16, 16)\n",
        "            nn.Conv2d(conv_channels[0], conv_channels[1], (4, 4), stride=(2, 2), padding=(1, 1), bias=False),\n",
        "            nn.BatchNorm2d(conv_channels[1]),\n",
        "            nn.LeakyReLU(0.2),\n",
        "            # Conv 3: (batch, conv_channels[1], 16, 16) -> (batch, conv_channels[2], 8, 8)\n",
        "            nn.Conv2d(conv_channels[1], conv_channels[2], (4, 4), stride=(2, 2), padding=(1, 1), bias=False),\n",
        "            nn.BatchNorm2d(conv_channels[2]),\n",
        "            nn.LeakyReLU(0.2),\n",
        "            # Conv 4: (batch, conv_channels[2], 8, 8) -> (batch, conv_channels[3], 4, 4)\n",
        "            nn.Conv2d(conv_channels[2], conv_channels[3], (4, 4), stride=(2, 2), padding=(1, 1), bias=False),\n",
        "            nn.LeakyReLU(0.2),\n",
        "            # Classifier: (batch, conv_channels[3], 4, 4) -> (batch, 1)\n",
        "            nn.Flatten(),\n",
        "            nn.Linear(conv_channels[3] * 4 * 4, 1, bias=False),\n",
        "            nn.Sigmoid(),\n",
        "        )\n",
        "\n",
        "    def forward(self, x: t.Tensor) -> t.Tensor:\n",
        "        return self.model(x)"
      ],
      "metadata": {
        "id": "krPaEXTRUWr_"
      },
      "execution_count": 8,
      "outputs": []
    },
    {
      "cell_type": "code",
      "source": [
        "def initialize_weights(*models) -> None:\n",
        "    for model in models:\n",
        "        for m in model.modules():\n",
        "            if isinstance(m, nn.ConvTranspose2d) or isinstance(m, nn.Conv2d):\n",
        "                nn.init.normal_(m.weight, mean=0.0, std=0.02)\n",
        "            elif isinstance(m, nn.BatchNorm2d):\n",
        "                nn.init.normal_(m.weight, mean=1.0, std=0.02)"
      ],
      "metadata": {
        "id": "NxEAWI8f61Nh"
      },
      "execution_count": 9,
      "outputs": []
    },
    {
      "cell_type": "code",
      "source": [
        "# Check weight initialization\n",
        "netG = Generator()\n",
        "netD = Discriminator()\n",
        "initialize_weights(netG, netD)\n",
        "\n",
        "for m in netG.modules():\n",
        "    if isinstance(m, nn.ConvTranspose2d) or isinstance(m, nn.Conv2d) or isinstance(m, nn.BatchNorm2d):\n",
        "        print(f'mean={m.weight.mean().item() :.3f}, std={m.weight.std().item() :.3f}, {type(m)}')\n",
        "\n",
        "for m in netD.modules():\n",
        "    if isinstance(m, nn.ConvTranspose2d) or isinstance(m, nn.Conv2d) or isinstance(m, nn.BatchNorm2d):\n",
        "        print(f'mean={m.weight.mean().item() :.3f}, std={m.weight.std().item() :.3f}, {type(m)}')"
      ],
      "metadata": {
        "colab": {
          "base_uri": "https://localhost:8080/"
        },
        "id": "AzAjD7t9C26u",
        "outputId": "56087262-e670-492a-f8c9-6a18f7a18a54"
      },
      "execution_count": 10,
      "outputs": [
        {
          "output_type": "stream",
          "name": "stdout",
          "text": [
            "mean=-0.000, std=0.020, <class 'torch.nn.modules.conv.ConvTranspose2d'>\n",
            "mean=1.000, std=0.021, <class 'torch.nn.modules.batchnorm.BatchNorm2d'>\n",
            "mean=0.000, std=0.020, <class 'torch.nn.modules.conv.ConvTranspose2d'>\n",
            "mean=1.000, std=0.021, <class 'torch.nn.modules.batchnorm.BatchNorm2d'>\n",
            "mean=0.000, std=0.020, <class 'torch.nn.modules.conv.ConvTranspose2d'>\n",
            "mean=1.001, std=0.020, <class 'torch.nn.modules.batchnorm.BatchNorm2d'>\n",
            "mean=-0.000, std=0.020, <class 'torch.nn.modules.conv.ConvTranspose2d'>\n",
            "mean=1.002, std=0.020, <class 'torch.nn.modules.batchnorm.BatchNorm2d'>\n",
            "mean=0.000, std=0.020, <class 'torch.nn.modules.conv.ConvTranspose2d'>\n",
            "mean=-0.000, std=0.020, <class 'torch.nn.modules.conv.Conv2d'>\n",
            "mean=1.002, std=0.020, <class 'torch.nn.modules.batchnorm.BatchNorm2d'>\n",
            "mean=0.000, std=0.020, <class 'torch.nn.modules.conv.Conv2d'>\n",
            "mean=1.000, std=0.020, <class 'torch.nn.modules.batchnorm.BatchNorm2d'>\n",
            "mean=-0.000, std=0.020, <class 'torch.nn.modules.conv.Conv2d'>\n",
            "mean=1.000, std=0.021, <class 'torch.nn.modules.batchnorm.BatchNorm2d'>\n",
            "mean=0.000, std=0.020, <class 'torch.nn.modules.conv.Conv2d'>\n"
          ]
        }
      ]
    },
    {
      "cell_type": "code",
      "source": [
        "transform = transforms.Compose([\n",
        "    transforms.Resize((64, 64)),\n",
        "    transforms.ToTensor(),\n",
        "    transforms.Normalize((0.5, 0.5, 0.5), (0.5, 0.5, 0.5)),\n",
        "])\n",
        "\n",
        "trainset = datasets.ImageFolder(\n",
        "    root=\"data\",\n",
        "    transform=transform\n",
        ")\n",
        "\n",
        "trainloader = t.utils.data.DataLoader(trainset, batch_size=128, shuffle=True)"
      ],
      "metadata": {
        "id": "jJxnOUdVAwwy"
      },
      "execution_count": 11,
      "outputs": []
    },
    {
      "cell_type": "code",
      "source": [
        "# utils.show_images(trainset, rows=2, cols=7)"
      ],
      "metadata": {
        "id": "AV4BH3EF7Ac5"
      },
      "execution_count": 12,
      "outputs": []
    },
    {
      "cell_type": "code",
      "source": [
        "device = 'cuda:0' if t.cuda.is_available() else 'cpu'\n",
        "device"
      ],
      "metadata": {
        "colab": {
          "base_uri": "https://localhost:8080/",
          "height": 35
        },
        "id": "Au2zqHLh7ovR",
        "outputId": "37cd2169-f6f9-4b21-852e-43d4f3fb3b29"
      },
      "execution_count": 13,
      "outputs": [
        {
          "output_type": "execute_result",
          "data": {
            "text/plain": [
              "'cuda:0'"
            ],
            "application/vnd.google.colaboratory.intrinsic+json": {
              "type": "string"
            }
          },
          "metadata": {},
          "execution_count": 13
        }
      ]
    },
    {
      "cell_type": "code",
      "source": [
        "# conv_channels = [512, 256, 128, 64]\n",
        "conv_channels = [256, 128, 64, 32]\n",
        "# conv_channels = [128, 64, 32, 16]\n",
        "\n",
        "netG = Generator(conv_channels=conv_channels)\n",
        "netD = Discriminator(conv_channels=conv_channels[::-1])\n",
        "initialize_weights(netG, netD)\n",
        "\n",
        "optG = t.optim.Adam(netG.parameters(), lr=0.0002, betas=(0.5, 0.999))\n",
        "optD = t.optim.Adam(netD.parameters(), lr=0.0002, betas=(0.5, 0.999))"
      ],
      "metadata": {
        "id": "rBfLH_jVGl_1"
      },
      "execution_count": 14,
      "outputs": []
    },
    {
      "cell_type": "code",
      "source": [
        "def train_generator_discriminator(\n",
        "    netG: Generator, \n",
        "    netD: Discriminator, \n",
        "    optG,\n",
        "    optD,\n",
        "    trainloader,\n",
        "    epochs: int = 1,\n",
        "    use_wandb: bool = False,\n",
        "    device: str = device,\n",
        "):\n",
        "    netG.train().to(device)\n",
        "    netD.train().to(device)\n",
        "\n",
        "    lossesG = []\n",
        "    lossesD = []\n",
        "\n",
        "    for epoch in tqdm_notebook(range(1, epochs + 1)):\n",
        "        inner_bar = tqdm_notebook(trainloader)\n",
        "        for real_img, _ in inner_bar:\n",
        "            # Inner loop setup\n",
        "            real_img = real_img.to(device)\n",
        "            current_batch_size = real_img.shape[0]\n",
        "            noise = t.randn(current_batch_size, netG.latent_dim_size).to(device)\n",
        "            fake_img = netG(noise)\n",
        "\n",
        "            # Discriminator\n",
        "            optD.zero_grad()\n",
        "            D_fake = netD(fake_img.detach())  # D wants this to be 0\n",
        "            D_real = netD(real_img)  # D wants this to be 1\n",
        "\n",
        "            lossD = -(t.log(1 - D_fake).mean() + t.log(D_real).mean())\n",
        "            lossD.backward()\n",
        "            optD.step()\n",
        "            lossesD.append(lossD.item())\n",
        "\n",
        "            # Generator\n",
        "            optG.zero_grad()\n",
        "            D_fake = netD(fake_img)  # G wants this to be 1\n",
        "\n",
        "            lossG = -(t.log(D_fake).mean())\n",
        "            lossG.backward()\n",
        "            optG.step()\n",
        "            lossesG.append(lossG.item())\n",
        "\n",
        "            # Metrics\n",
        "            inner_bar.set_description(f\"lossD={lossD.item() :.4f}, lossG={lossG.item() :.4f}\")\n",
        "\n",
        "    return lossesG, lossesD"
      ],
      "metadata": {
        "id": "YLZUyrv3B6Um"
      },
      "execution_count": 17,
      "outputs": []
    },
    {
      "cell_type": "code",
      "source": [
        "lossesG, lossesD = train_generator_discriminator(netG, netD, optG, optD, trainloader, 1)"
      ],
      "metadata": {
        "colab": {
          "base_uri": "https://localhost:8080/",
          "height": 81,
          "referenced_widgets": [
            "4e7fda32fad64caa9197eab5c12b6884",
            "1ceb5cacb87c4061bc725acffe706521",
            "4e7cf9b261414d65afc2602fb307286c",
            "cb5ad73527b44eb7b907c1996c677ea6",
            "8a5de85a471747e5b7fea400b294ef97",
            "f1896aaa87d2446ebc733fd34af32cc3",
            "8c3a8f2213f34c1eac96324149e6fb1e",
            "e49cb566866a4d85ba80f99a763c893a",
            "3213a1fdebff4a199363950415aa3788",
            "3d5095b9176442d7acef91712b7e3cd5",
            "fce626ca91694813a085a178893406e9",
            "691193350ce04bda876e1078d2fe2830",
            "6a31e6ec57584a4290bb1f6e6cc5084d",
            "dc11fb47ce6b4ef89d05f39d137f6bed",
            "afd7b4ae092d4785b68d4f1abd745c7c",
            "0e772680f42e44e6b7175d1080ff6d65",
            "46b6a4f0ee064ba4a3a80575ce8921f0",
            "1bd1d2db32af4e88844b4b966d1a31b1",
            "6643e9c362cf439c808ecb8d4b931b2c",
            "892eefafb29843fbb7aa615023266ce2",
            "3bc81c0b782b4a6e809905f029109bfb",
            "a4f263bad2c9405f8a81d946d7a5e48c"
          ]
        },
        "id": "r8DG2tJZB6XG",
        "outputId": "986bc148-522b-4b18-bf24-ad92e705f21b"
      },
      "execution_count": 18,
      "outputs": [
        {
          "output_type": "display_data",
          "data": {
            "text/plain": [
              "  0%|          | 0/1 [00:00<?, ?it/s]"
            ],
            "application/vnd.jupyter.widget-view+json": {
              "version_major": 2,
              "version_minor": 0,
              "model_id": "4e7fda32fad64caa9197eab5c12b6884"
            }
          },
          "metadata": {}
        },
        {
          "output_type": "display_data",
          "data": {
            "text/plain": [
              "  0%|          | 0/1583 [00:00<?, ?it/s]"
            ],
            "application/vnd.jupyter.widget-view+json": {
              "version_major": 2,
              "version_minor": 0,
              "model_id": "691193350ce04bda876e1078d2fe2830"
            }
          },
          "metadata": {}
        }
      ]
    },
    {
      "cell_type": "code",
      "source": [
        "import pandas as pd\n",
        "\n",
        "df = pd.DataFrame()\n",
        "df['g_loss'] = lossesG\n",
        "df['d_loss'] = lossesD\n",
        "df.plot()"
      ],
      "metadata": {
        "id": "quVsfX9b6UDb",
        "colab": {
          "base_uri": "https://localhost:8080/",
          "height": 283
        },
        "outputId": "dd4e81a4-34c6-4aa0-b4fc-55a818ff2fbe"
      },
      "execution_count": 19,
      "outputs": [
        {
          "output_type": "execute_result",
          "data": {
            "text/plain": [
              "<matplotlib.axes._subplots.AxesSubplot at 0x7f92a4d26f50>"
            ]
          },
          "metadata": {},
          "execution_count": 19
        },
        {
          "output_type": "display_data",
          "data": {
            "text/plain": [
              "<Figure size 432x288 with 1 Axes>"
            ],
            "image/png": "[encoded data removed]"
          },
          "metadata": {
            "needs_background": "light"
          }
        }
      ]
    },
    {
      "cell_type": "code",
      "source": [
        "# utils.display_generator_output(netG, netG.latent_dim_size, rows=2, cols=7)"
      ],
      "metadata": {
        "id": "kdCnFrbdJDCF"
      },
      "execution_count": 21,
      "outputs": []
    },
    {
      "cell_type": "code",
      "source": [],
      "metadata": {
        "id": "zHvrk4TeTbrk"
      },
      "execution_count": null,
      "outputs": []
    },
    {
      "cell_type": "code",
      "source": [],
      "metadata": {
        "id": "2_dclu_bTbvG"
      },
      "execution_count": null,
      "outputs": []
    }
  ]
}