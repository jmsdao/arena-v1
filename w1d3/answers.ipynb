{
 "cells": [
  {
   "cell_type": "code",
   "execution_count": 1,
   "metadata": {},
   "outputs": [],
   "source": [
    "import torch as t\n",
    "import torch.nn as nn\n",
    "from torch.utils.data import Dataset, DataLoader\n",
    "\n",
    "import pandas as pd\n",
    "from einops import rearrange\n",
    "\n",
    "from my_transformer import TransformerConfig, DecoderOnlyTransformer"
   ]
  },
  {
   "cell_type": "code",
   "execution_count": 2,
   "metadata": {},
   "outputs": [],
   "source": [
    "class CustomTextDataset(Dataset):\n",
    "    def __init__(self, vocab_size: int, seq_len: int, datasize: int):\n",
    "        self.seqs = t.randint(0, vocab_size, (datasize, seq_len))\n",
    "\n",
    "    def __len__(self):\n",
    "            return len(self.seqs)\n",
    "\n",
    "    def __getitem__(self, idx):\n",
    "            input = self.seqs[idx]\n",
    "            target = t.flip(input, dims=(0,))\n",
    "            return (input, target)"
   ]
  },
  {
   "cell_type": "code",
   "execution_count": 3,
   "metadata": {},
   "outputs": [],
   "source": [
    "config = TransformerConfig(\n",
    "    num_layers=2,\n",
    "    num_heads=4,\n",
    "    vocab_size=10,\n",
    "    hidden_size=48,\n",
    "    max_seq_len=6,\n",
    "    dropout=0.1,\n",
    "    layer_norm_epsilon=1e-05\n",
    ")\n",
    "\n",
    "trainset = CustomTextDataset(\n",
    "    vocab_size=config.vocab_size,\n",
    "    seq_len=config.max_seq_len,\n",
    "    datasize=1000\n",
    ")\n",
    "trainloader = DataLoader(trainset, batch_size=32, shuffle=True)\n"
   ]
  },
  {
   "cell_type": "code",
   "execution_count": 4,
   "metadata": {},
   "outputs": [
    {
     "data": {
      "text/plain": [
       "(tensor([4, 9, 2, 9, 8, 2]), tensor([2, 8, 9, 2, 9, 4]))"
      ]
     },
     "execution_count": 4,
     "metadata": {},
     "output_type": "execute_result"
    }
   ],
   "source": [
    "# Take a peak at an (input, target) pair from the trainloader\n",
    "trainloader.dataset[0]"
   ]
  },
  {
   "cell_type": "code",
   "execution_count": 5,
   "metadata": {},
   "outputs": [],
   "source": [
    "model = DecoderOnlyTransformer(config)\n",
    "optimizer = t.optim.Adam(model.parameters(), lr=1e-3)\n",
    "criterion = nn.CrossEntropyLoss()\n",
    "\n",
    "train_losses = []"
   ]
  },
  {
   "cell_type": "code",
   "execution_count": 6,
   "metadata": {},
   "outputs": [
    {
     "name": "stdout",
     "output_type": "stream",
     "text": [
      "tensor([4, 9, 2, 9, 8, 2]) tensor([4, 9, 2, 9, 8, 2]) tensor([2, 8, 9, 2, 9, 4])\n",
      "tensor([3, 1, 6, 2, 2, 7]) tensor([3, 1, 6, 2, 2, 7]) tensor([7, 2, 2, 6, 1, 3])\n",
      "tensor([1, 9, 1, 1, 1, 0]) tensor([1, 9, 1, 1, 1, 0]) tensor([0, 1, 1, 1, 9, 1])\n",
      "tensor([2, 1, 8, 9, 3, 7]) tensor([2, 1, 8, 9, 3, 7]) tensor([7, 3, 9, 8, 1, 2])\n",
      "tensor([9, 5, 1, 9, 2, 8]) tensor([9, 5, 1, 9, 2, 8]) tensor([8, 2, 9, 1, 5, 9])\n",
      "tensor([8, 8, 1, 6, 0, 6]) tensor([8, 8, 1, 6, 0, 6]) tensor([6, 0, 6, 1, 8, 8])\n",
      "tensor([4, 9, 5, 9, 5, 7]) tensor([4, 9, 5, 9, 5, 7]) tensor([7, 5, 9, 5, 9, 4])\n",
      "tensor([5, 1, 5, 3, 2, 7]) tensor([5, 1, 5, 3, 2, 7]) tensor([7, 2, 3, 5, 1, 5])\n",
      "tensor([5, 5, 9, 8, 6, 0]) tensor([5, 5, 9, 8, 6, 0]) tensor([0, 6, 8, 9, 5, 5])\n",
      "tensor([5, 3, 7, 4, 8, 3]) tensor([5, 3, 7, 4, 8, 3]) tensor([3, 8, 4, 7, 3, 5])\n"
     ]
    }
   ],
   "source": [
    "# Test the model on the first few datapoints\n",
    "model.eval()\n",
    "for i in range(10):\n",
    "    with t.no_grad():\n",
    "        input, target = trainset[i]\n",
    "        output = model(input).argmax(dim=-1)\n",
    "        print(input, output, target)"
   ]
  },
  {
   "cell_type": "code",
   "execution_count": 7,
   "metadata": {},
   "outputs": [
    {
     "data": {
      "text/plain": [
       "tensor([[-12.7653,  -8.7106,  -4.9278,  -5.0449,  38.4866,   9.1376,   4.6578,\n",
       "          -6.5536, -10.9397,  -5.9392],\n",
       "        [ -7.5714, -14.2129,  -3.0395,  -5.1020,  -3.5640,  -8.0693,  -8.6857,\n",
       "           9.5489,  11.9702,  46.8874],\n",
       "        [ -4.1407,  -6.8299,  46.1375,   2.8813,  -5.2167,  13.6722,  -3.6969,\n",
       "          -2.5647,  -6.2124,  -3.6502],\n",
       "        [ -6.0516, -12.4106,  -0.1945,  -4.0177,  -0.5814,  -5.3783, -10.1912,\n",
       "           6.9940,   8.3550,  45.8515],\n",
       "        [  7.0773, -10.7890,  -1.4051,  -8.5924,  -8.5758,  10.4038,  -3.6772,\n",
       "           9.7778,  39.4988,   9.9840],\n",
       "        [  1.3078,  -4.7722,  44.8890,   2.4936,  -3.7719,  13.4666,  -4.4189,\n",
       "          -3.0231,  -8.2291,  -6.3323]])"
      ]
     },
     "execution_count": 7,
     "metadata": {},
     "output_type": "execute_result"
    }
   ],
   "source": [
    "# View the logits produced on the first datapoint\n",
    "model.eval()\n",
    "with t.no_grad():\n",
    "    logits = model(trainset[0][0])\n",
    "logits"
   ]
  },
  {
   "cell_type": "code",
   "execution_count": 8,
   "metadata": {},
   "outputs": [],
   "source": [
    "NUM_EPOCHS = 100\n",
    "\n",
    "model.train()\n",
    "for epoch in range(1, NUM_EPOCHS + 1):\n",
    "    for inputs, targets in trainloader:\n",
    "        \n",
    "        outputs = model(inputs)\n",
    "        \n",
    "        loss = criterion(\n",
    "            rearrange(outputs, 'batch seq vocab -> (batch seq) vocab'),\n",
    "            rearrange(targets, 'batch seq -> (batch seq)')\n",
    "        )\n",
    "        train_losses.append(loss.item())\n",
    "        \n",
    "        loss.backward()\n",
    "        optimizer.step()\n",
    "        optimizer.zero_grad()"
   ]
  },
  {
   "cell_type": "code",
   "execution_count": 18,
   "metadata": {},
   "outputs": [
    {
     "data": {
      "text/plain": [
       "<AxesSubplot:>"
      ]
     },
     "execution_count": 18,
     "metadata": {},
     "output_type": "execute_result"
    },
    {
     "data": {
      "image/png": "[encoded data removed]",
      "text/plain": [
       "<Figure size 640x480 with 1 Axes>"
      ]
     },
     "metadata": {},
     "output_type": "display_data"
    }
   ],
   "source": [
    "df = pd.DataFrame(train_losses)\n",
    "df.plot()\n"
   ]
  },
  {
   "cell_type": "code",
   "execution_count": 10,
   "metadata": {},
   "outputs": [
    {
     "name": "stdout",
     "output_type": "stream",
     "text": [
      "tensor([4, 9, 2, 9, 8, 2]) tensor([8, 1, 5, 1, 4, 2]) tensor([2, 8, 9, 2, 9, 4])\n",
      "tensor([3, 1, 6, 2, 2, 7]) tensor([3, 9, 5, 5, 2, 7]) tensor([7, 2, 2, 6, 1, 3])\n",
      "tensor([1, 9, 1, 1, 1, 0]) tensor([9, 1, 9, 9, 9, 0]) tensor([0, 1, 1, 1, 9, 1])\n",
      "tensor([2, 1, 8, 9, 3, 7]) tensor([3, 9, 3, 1, 5, 7]) tensor([7, 3, 9, 8, 1, 2])\n",
      "tensor([9, 5, 1, 9, 2, 8]) tensor([1, 5, 9, 1, 2, 4]) tensor([8, 2, 9, 1, 5, 9])\n",
      "tensor([8, 8, 1, 6, 0, 6]) tensor([8, 8, 9, 5, 0, 7]) tensor([6, 0, 6, 1, 8, 8])\n",
      "tensor([4, 9, 5, 9, 5, 7]) tensor([8, 1, 5, 1, 5, 7]) tensor([7, 5, 9, 5, 9, 4])\n",
      "tensor([5, 1, 5, 3, 2, 7]) tensor([5, 9, 5, 5, 2, 7]) tensor([7, 2, 3, 5, 1, 5])\n",
      "tensor([5, 5, 9, 8, 6, 0]) tensor([5, 5, 1, 4, 0, 0]) tensor([0, 6, 8, 9, 5, 5])\n",
      "tensor([5, 3, 7, 4, 8, 3]) tensor([5, 3, 7, 5, 4, 8]) tensor([3, 8, 4, 7, 3, 5])\n"
     ]
    }
   ],
   "source": [
    "# Test the model again on the first few datapoints\n",
    "model.eval()\n",
    "for i in range(10):\n",
    "    with t.no_grad():\n",
    "        input, target = trainset[i]\n",
    "        output = model(input).argmax(dim=-1)\n",
    "        print(input, output, target)"
   ]
  },
  {
   "cell_type": "code",
   "execution_count": 11,
   "metadata": {},
   "outputs": [
    {
     "data": {
      "text/plain": [
       "tensor([[0.5428, 0.3856, 0.4879, 0.5446, 0.2943, 0.4949, 0.3048, 0.5748, 0.6991,\n",
       "         0.5752],\n",
       "        [0.5617, 0.8303, 0.5012, 0.5794, 0.5784, 0.6878, 0.5013, 0.4921, 0.6656,\n",
       "         0.7682],\n",
       "        [0.2920, 0.4736, 0.5108, 0.4822, 0.4857, 0.5860, 0.4442, 0.4049, 0.4107,\n",
       "         0.5018],\n",
       "        [0.6282, 0.8735, 0.6300, 0.5419, 0.7195, 0.8048, 0.4876, 0.4713, 0.6161,\n",
       "         0.7746],\n",
       "        [0.4480, 0.5538, 0.4426, 0.5231, 0.7032, 0.6103, 0.4339, 0.4556, 0.6143,\n",
       "         0.6279],\n",
       "        [0.2836, 0.2761, 0.4863, 0.2474, 0.4732, 0.4094, 0.3599, 0.4025, 0.4068,\n",
       "         0.4173]])"
      ]
     },
     "execution_count": 11,
     "metadata": {},
     "output_type": "execute_result"
    }
   ],
   "source": [
    "# View the logits produced on the first datapoint\n",
    "model.eval()\n",
    "with t.no_grad():\n",
    "    logits = model(trainset[0][0])\n",
    "logits"
   ]
  },
  {
   "cell_type": "code",
   "execution_count": null,
   "metadata": {},
   "outputs": [],
   "source": []
  }
 ],
 "metadata": {
  "kernelspec": {
   "display_name": "Python 3.7.12 ('arena')",
   "language": "python",
   "name": "python3"
  },
  "language_info": {
   "codemirror_mode": {
    "name": "ipython",
    "version": 3
   },
   "file_extension": ".py",
   "mimetype": "text/x-python",
   "name": "python",
   "nbconvert_exporter": "python",
   "pygments_lexer": "ipython3",
   "version": "3.7.12"
  },
  "orig_nbformat": 4,
  "vscode": {
   "interpreter": {
    "hash": "84205e65a427e19ff91dd8a92d5a5f2cf0946f21e31957c24c166022f0f50b37"
   }
  }
 },
 "nbformat": 4,
 "nbformat_minor": 2
}
