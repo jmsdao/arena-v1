{
 "cells": [
  {
   "cell_type": "code",
   "execution_count": 3,
   "metadata": {},
   "outputs": [],
   "source": [
    "import torch as t\n",
    "import torch.nn as nn\n",
    "from torch.utils.data import Dataset, DataLoader\n",
    "\n",
    "import pandas as pd\n",
    "from einops import rearrange\n",
    "from tqdm.notebook import tqdm_notebook\n",
    "\n",
    "from my_transformer import TransformerConfig, DecoderOnlyTransformer"
   ]
  },
  {
   "cell_type": "code",
   "execution_count": 4,
   "metadata": {},
   "outputs": [],
   "source": [
    "class CustomTextDataset(Dataset):\n",
    "    def __init__(self, vocab_size: int, seq_len: int, datasize: int):\n",
    "        self.datasize = datasize\n",
    "        self.vocab_size = vocab_size\n",
    "        self.seq_len = seq_len\n",
    "\n",
    "    def __len__(self):\n",
    "            return self.datasize\n",
    "\n",
    "    def __getitem__(self, idx):\n",
    "            input = t.randint(0, self.vocab_size, (self.seq_len,))\n",
    "            target = t.flip(input, dims=(0,))\n",
    "            return (input, target)"
   ]
  },
  {
   "cell_type": "code",
   "execution_count": 5,
   "metadata": {},
   "outputs": [],
   "source": [
    "config = TransformerConfig(\n",
    "    num_layers=2,\n",
    "    num_heads=4,\n",
    "    vocab_size=10,\n",
    "    hidden_size=96,\n",
    "    max_seq_len=6,\n",
    "    dropout=0.1,\n",
    "    layer_norm_epsilon=1e-05\n",
    ")\n",
    "\n",
    "trainset = CustomTextDataset(\n",
    "    vocab_size=config.vocab_size,\n",
    "    seq_len=config.max_seq_len,\n",
    "    datasize=10000\n",
    ")\n",
    "trainloader = DataLoader(trainset, batch_size=128, shuffle=True)\n"
   ]
  },
  {
   "cell_type": "code",
   "execution_count": 6,
   "metadata": {},
   "outputs": [],
   "source": [
    "model = DecoderOnlyTransformer(config)\n",
    "optimizer = t.optim.Adam(model.parameters(), lr=1e-3)\n",
    "criterion = nn.CrossEntropyLoss()\n",
    "\n",
    "train_losses = []"
   ]
  },
  {
   "cell_type": "code",
   "execution_count": 10,
   "metadata": {},
   "outputs": [
    {
     "name": "stdout",
     "output_type": "stream",
     "text": [
      "tensor([7, 4, 6, 5, 8, 0]) tensor([[7, 4, 6, 5, 8, 0]]) tensor([0, 8, 5, 6, 4, 7])\n",
      "tensor([8, 0, 1, 6, 9, 6]) tensor([[8, 0, 1, 6, 9, 6]]) tensor([6, 9, 6, 1, 0, 8])\n",
      "tensor([0, 9, 3, 7, 9, 3]) tensor([[0, 9, 3, 7, 9, 3]]) tensor([3, 9, 7, 3, 9, 0])\n",
      "tensor([2, 3, 8, 2, 3, 4]) tensor([[2, 3, 8, 2, 3, 4]]) tensor([4, 3, 2, 8, 3, 2])\n",
      "tensor([7, 2, 2, 4, 5, 4]) tensor([[7, 2, 2, 4, 5, 4]]) tensor([4, 5, 4, 2, 2, 7])\n",
      "tensor([2, 6, 3, 0, 2, 6]) tensor([[2, 6, 3, 0, 2, 6]]) tensor([6, 2, 0, 3, 6, 2])\n",
      "tensor([6, 0, 4, 4, 7, 3]) tensor([[6, 0, 4, 4, 7, 3]]) tensor([3, 7, 4, 4, 0, 6])\n",
      "tensor([9, 2, 6, 6, 8, 1]) tensor([[9, 2, 6, 6, 8, 1]]) tensor([1, 8, 6, 6, 2, 9])\n",
      "tensor([9, 7, 6, 4, 4, 5]) tensor([[9, 7, 6, 4, 4, 5]]) tensor([5, 4, 4, 6, 7, 9])\n",
      "tensor([3, 5, 5, 1, 8, 0]) tensor([[3, 5, 5, 1, 8, 0]]) tensor([0, 8, 1, 5, 5, 3])\n"
     ]
    }
   ],
   "source": [
    "# Test the model on the first few datapoints\n",
    "model.eval()\n",
    "for i in range(10):\n",
    "    with t.no_grad():\n",
    "        input, target = trainset[i]\n",
    "        output = model(input.unsqueeze(0)).argmax(dim=-1)\n",
    "        print(input, output, target)"
   ]
  },
  {
   "cell_type": "code",
   "execution_count": 11,
   "metadata": {},
   "outputs": [
    {
     "data": {
      "application/vnd.jupyter.widget-view+json": {
       "model_id": "9bb111ec75a349509bc64eced0d0286a",
       "version_major": 2,
       "version_minor": 0
      },
      "text/plain": [
       "  0%|          | 0/5 [00:00<?, ?it/s]"
      ]
     },
     "metadata": {},
     "output_type": "display_data"
    },
    {
     "data": {
      "application/vnd.jupyter.widget-view+json": {
       "model_id": "638ba80758f94073ab969e339e965fc3",
       "version_major": 2,
       "version_minor": 0
      },
      "text/plain": [
       "  0%|          | 0/79 [00:00<?, ?it/s]"
      ]
     },
     "metadata": {},
     "output_type": "display_data"
    },
    {
     "data": {
      "application/vnd.jupyter.widget-view+json": {
       "model_id": "de14d935b2fd400ea7298db973e49203",
       "version_major": 2,
       "version_minor": 0
      },
      "text/plain": [
       "  0%|          | 0/79 [00:00<?, ?it/s]"
      ]
     },
     "metadata": {},
     "output_type": "display_data"
    },
    {
     "data": {
      "application/vnd.jupyter.widget-view+json": {
       "model_id": "c944043024434989ad6ea5b61eef12b5",
       "version_major": 2,
       "version_minor": 0
      },
      "text/plain": [
       "  0%|          | 0/79 [00:00<?, ?it/s]"
      ]
     },
     "metadata": {},
     "output_type": "display_data"
    },
    {
     "data": {
      "application/vnd.jupyter.widget-view+json": {
       "model_id": "421cb222375547a79237c2d928c76371",
       "version_major": 2,
       "version_minor": 0
      },
      "text/plain": [
       "  0%|          | 0/79 [00:00<?, ?it/s]"
      ]
     },
     "metadata": {},
     "output_type": "display_data"
    },
    {
     "data": {
      "application/vnd.jupyter.widget-view+json": {
       "model_id": "c5d24daf07b14c42b9b1bbedbd3b94ee",
       "version_major": 2,
       "version_minor": 0
      },
      "text/plain": [
       "  0%|          | 0/79 [00:00<?, ?it/s]"
      ]
     },
     "metadata": {},
     "output_type": "display_data"
    }
   ],
   "source": [
    "NUM_EPOCHS = 5\n",
    "\n",
    "model.train()\n",
    "for epoch in tqdm_notebook(range(1, NUM_EPOCHS + 1)):\n",
    "    for inputs, targets in tqdm_notebook(trainloader, leave=False):\n",
    "        \n",
    "        outputs = model(inputs)\n",
    "        \n",
    "        loss = criterion(\n",
    "            rearrange(outputs, 'batch seq vocab -> (batch seq) vocab'),\n",
    "            rearrange(targets, 'batch seq -> (batch seq)'),\n",
    "        )\n",
    "        train_losses.append(loss.item())\n",
    "        \n",
    "        loss.backward()\n",
    "        optimizer.step()\n",
    "        optimizer.zero_grad()"
   ]
  },
  {
   "cell_type": "code",
   "execution_count": 12,
   "metadata": {},
   "outputs": [
    {
     "data": {
      "text/plain": [
       "<AxesSubplot:>"
      ]
     },
     "execution_count": 12,
     "metadata": {},
     "output_type": "execute_result"
    },
    {
     "data": {
      "image/png": "[encoded data removed]",
      "text/plain": [
       "<Figure size 640x480 with 1 Axes>"
      ]
     },
     "metadata": {},
     "output_type": "display_data"
    }
   ],
   "source": [
    "df = pd.DataFrame(train_losses)\n",
    "df.plot()"
   ]
  },
  {
   "cell_type": "code",
   "execution_count": 13,
   "metadata": {},
   "outputs": [
    {
     "name": "stdout",
     "output_type": "stream",
     "text": [
      "tensor([7, 6, 3, 3, 7, 5]) tensor([[0, 1, 0, 3, 6, 7]]) tensor([5, 7, 3, 3, 6, 7])\n",
      "tensor([7, 3, 0, 1, 0, 3]) tensor([[0, 1, 1, 0, 3, 7]]) tensor([3, 0, 1, 0, 3, 7])\n",
      "tensor([1, 3, 3, 5, 7, 4]) tensor([[5, 1, 0, 3, 3, 1]]) tensor([4, 7, 5, 3, 3, 1])\n",
      "tensor([8, 7, 7, 0, 2, 0]) tensor([[5, 0, 0, 7, 7, 8]]) tensor([0, 2, 0, 7, 7, 8])\n",
      "tensor([8, 1, 3, 8, 2, 7]) tensor([[5, 0, 0, 3, 1, 8]]) tensor([7, 2, 8, 3, 1, 8])\n",
      "tensor([5, 1, 8, 2, 1, 9]) tensor([[1, 0, 0, 8, 1, 5]]) tensor([9, 1, 2, 8, 1, 5])\n",
      "tensor([8, 1, 0, 2, 8, 9]) tensor([[5, 0, 1, 0, 1, 8]]) tensor([9, 8, 2, 0, 1, 8])\n",
      "tensor([3, 6, 3, 4, 1, 0]) tensor([[1, 0, 0, 3, 6, 3]]) tensor([0, 1, 4, 3, 6, 3])\n",
      "tensor([5, 1, 0, 5, 4, 3]) tensor([[1, 0, 1, 0, 1, 5]]) tensor([3, 4, 5, 0, 1, 5])\n",
      "tensor([5, 0, 5, 9, 7, 8]) tensor([[1, 1, 0, 5, 0, 5]]) tensor([8, 7, 9, 5, 0, 5])\n"
     ]
    }
   ],
   "source": [
    "# Test the model again on the first few datapoints\n",
    "model.eval()\n",
    "for i in range(10):\n",
    "    with t.no_grad():\n",
    "        input, target = trainset[i]\n",
    "        output = model(input.unsqueeze(0)).argmax(dim=-1)\n",
    "        print(input, output, target)"
   ]
  },
  {
   "cell_type": "code",
   "execution_count": null,
   "metadata": {},
   "outputs": [],
   "source": []
  }
 ],
 "metadata": {
  "kernelspec": {
   "display_name": "Python 3.7.12 ('arena')",
   "language": "python",
   "name": "python3"
  },
  "language_info": {
   "codemirror_mode": {
    "name": "ipython",
    "version": 3
   },
   "file_extension": ".py",
   "mimetype": "text/x-python",
   "name": "python",
   "nbconvert_exporter": "python",
   "pygments_lexer": "ipython3",
   "version": "3.7.12"
  },
  "orig_nbformat": 4,
  "vscode": {
   "interpreter": {
    "hash": "84205e65a427e19ff91dd8a92d5a5f2cf0946f21e31957c24c166022f0f50b37"
   }
  }
 },
 "nbformat": 4,
 "nbformat_minor": 2
}
