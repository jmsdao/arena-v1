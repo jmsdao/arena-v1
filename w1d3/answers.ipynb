{
 "cells": [
  {
   "cell_type": "code",
   "execution_count": 1,
   "metadata": {},
   "outputs": [],
   "source": [
    "import torch as t\n",
    "import torch.nn as nn\n",
    "from torch.utils.data import Dataset, DataLoader\n",
    "\n",
    "from einops import rearrange\n",
    "\n",
    "from my_transformer import TransformerConfig, DecoderOnlyTransformer"
   ]
  },
  {
   "cell_type": "code",
   "execution_count": 2,
   "metadata": {},
   "outputs": [],
   "source": [
    "class CustomTextDataset(Dataset):\n",
    "    def __init__(self, vocab_size: int, seq_len: int, datasize: int):\n",
    "        self.seqs = t.randint(0, vocab_size, (datasize, seq_len))\n",
    "\n",
    "    def __len__(self):\n",
    "            return len(self.seqs)\n",
    "\n",
    "    def __getitem__(self, idx):\n",
    "            input = self.seqs[idx]\n",
    "            target = t.flip(input, dims=(0,))\n",
    "            return (input, target)"
   ]
  },
  {
   "cell_type": "code",
   "execution_count": 3,
   "metadata": {},
   "outputs": [],
   "source": [
    "config = TransformerConfig(\n",
    "    num_layers=2,\n",
    "    num_heads=8,\n",
    "    vocab_size=20,\n",
    "    hidden_size=96,\n",
    "    max_seq_len=6,\n",
    "    dropout=0.1,\n",
    "    layer_norm_epsilon=1e-05\n",
    ")\n",
    "\n",
    "trainset = CustomTextDataset(vocab_size=config.vocab_size, seq_len=config.max_seq_len, datasize=100)\n",
    "trainloader = DataLoader(trainset, batch_size=16, shuffle=True)\n"
   ]
  },
  {
   "cell_type": "code",
   "execution_count": 4,
   "metadata": {},
   "outputs": [
    {
     "data": {
      "text/plain": [
       "(tensor([17,  7,  1, 13, 11,  9]), tensor([ 9, 11, 13,  1,  7, 17]))"
      ]
     },
     "execution_count": 4,
     "metadata": {},
     "output_type": "execute_result"
    }
   ],
   "source": [
    "# Take a peak at an (input, target) pair from the trainloader\n",
    "trainloader.dataset[0]"
   ]
  },
  {
   "cell_type": "code",
   "execution_count": 5,
   "metadata": {},
   "outputs": [],
   "source": [
    "model = DecoderOnlyTransformer(config)\n",
    "optimizer = t.optim.Adam(model.parameters(), lr=1e-3)\n",
    "criterion = nn.CrossEntropyLoss()\n",
    "\n",
    "train_losses = []"
   ]
  },
  {
   "cell_type": "code",
   "execution_count": 6,
   "metadata": {},
   "outputs": [],
   "source": [
    "NUM_EPOCHS = 250\n",
    "\n",
    "model.train()\n",
    "for epoch in range(1, NUM_EPOCHS + 1):\n",
    "    for inputs, targets in trainloader:\n",
    "        \n",
    "        outputs = model(inputs)\n",
    "        \n",
    "        loss = criterion(\n",
    "            rearrange(outputs, 'batch seq vocab -> (batch seq) vocab'),\n",
    "            rearrange(targets, 'batch seq -> (batch seq)')\n",
    "        )\n",
    "        train_losses.append(loss.item())\n",
    "        \n",
    "        loss.backward()\n",
    "        optimizer.step()\n",
    "        optimizer.zero_grad()"
   ]
  },
  {
   "cell_type": "code",
   "execution_count": 7,
   "metadata": {},
   "outputs": [
    {
     "data": {
      "text/plain": [
       "<AxesSubplot:>"
      ]
     },
     "execution_count": 7,
     "metadata": {},
     "output_type": "execute_result"
    },
    {
     "data": {
      "image/png": "[encoded data removed]",
      "text/plain": [
       "<Figure size 640x480 with 1 Axes>"
      ]
     },
     "metadata": {},
     "output_type": "display_data"
    }
   ],
   "source": [
    "import pandas as pd\n",
    "pd.DataFrame(train_losses).plot()"
   ]
  },
  {
   "cell_type": "code",
   "execution_count": 8,
   "metadata": {},
   "outputs": [
    {
     "name": "stdout",
     "output_type": "stream",
     "text": [
      "tensor([17,  7,  1, 13, 11,  9]) tensor([ 9,  7, 19,  9,  8,  9]) tensor([ 9, 11, 13,  1,  7, 17])\n",
      "tensor([12,  4,  9,  3,  3,  3]) tensor([12,  4,  9,  3,  3,  3]) tensor([ 3,  3,  3,  9,  4, 12])\n",
      "tensor([15,  8,  8, 10,  7, 19]) tensor([15,  8,  8, 10,  7, 19]) tensor([19,  7, 10,  8,  8, 15])\n",
      "tensor([ 9, 11,  4,  1, 10,  2]) tensor([ 9, 19,  4, 19, 10,  2]) tensor([ 2, 10,  1,  4, 11,  9])\n",
      "tensor([11,  3,  7, 16,  8, 13]) tensor([19,  3,  7, 16,  8,  9]) tensor([13,  8, 16,  7,  3, 11])\n",
      "tensor([ 8,  7, 19, 11, 17, 10]) tensor([ 8,  7, 19,  8,  9, 10]) tensor([10, 17, 11, 19,  7,  8])\n",
      "tensor([ 2, 13,  9, 17,  9, 19]) tensor([ 2,  9,  9,  9,  9, 19]) tensor([19,  9, 17,  9, 13,  2])\n",
      "tensor([9, 2, 6, 0, 5, 4]) tensor([9, 2, 6, 5, 5, 4]) tensor([4, 5, 0, 6, 2, 9])\n",
      "tensor([11, 17,  4, 17, 12, 16]) tensor([19,  9,  4,  9, 12, 16]) tensor([16, 12, 17,  4, 17, 11])\n",
      "tensor([12,  3,  5,  9, 13, 16]) tensor([12,  3,  5,  9,  9, 16]) tensor([16, 13,  9,  5,  3, 12])\n"
     ]
    }
   ],
   "source": [
    "model.eval()\n",
    "for i in range(10):\n",
    "    with t.no_grad():\n",
    "        input, target = trainset[i]\n",
    "        output = model(input).argmax(dim=-1)\n",
    "        print(input, output, target)"
   ]
  },
  {
   "cell_type": "code",
   "execution_count": null,
   "metadata": {},
   "outputs": [],
   "source": []
  }
 ],
 "metadata": {
  "kernelspec": {
   "display_name": "Python 3.7.12 ('arena')",
   "language": "python",
   "name": "python3"
  },
  "language_info": {
   "codemirror_mode": {
    "name": "ipython",
    "version": 3
   },
   "file_extension": ".py",
   "mimetype": "text/x-python",
   "name": "python",
   "nbconvert_exporter": "python",
   "pygments_lexer": "ipython3",
   "version": "3.7.12"
  },
  "orig_nbformat": 4,
  "vscode": {
   "interpreter": {
    "hash": "84205e65a427e19ff91dd8a92d5a5f2cf0946f21e31957c24c166022f0f50b37"
   }
  }
 },
 "nbformat": 4,
 "nbformat_minor": 2
}
