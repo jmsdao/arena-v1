{
 "cells": [
  {
   "cell_type": "code",
   "execution_count": 52,
   "metadata": {},
   "outputs": [],
   "source": [
    "import torch as t\n",
    "import torch.nn as nn\n",
    "\n",
    "from fancy_einsum import einsum"
   ]
  },
  {
   "cell_type": "code",
   "execution_count": 53,
   "metadata": {},
   "outputs": [],
   "source": [
    "class PositionalEncoding(nn.Module):\n",
    "    def __init__(self, embedding_dim: int, max_seq_len: int = 5000):\n",
    "        super().__init__()\n",
    "        position = t.arange(max_seq_len).unsqueeze(1)\n",
    "        denominator = 10000 ** (2 * t.arange(embedding_dim // 2).type(t.float32) / embedding_dim)\n",
    "\n",
    "        pe = t.zeros(max_seq_len, embedding_dim)\n",
    "        pe[:, 0::2] = t.sin(position / denominator)\n",
    "        pe[:, 1::2] = t.cos(position / denominator)\n",
    "        self.register_buffer('pe', pe)\n",
    "\n",
    "    def forward(self, x: t.Tensor) -> t.Tensor:\n",
    "        '''\n",
    "        x: shape (batch, seq_len, embedding_dim)\n",
    "        '''\n",
    "        seq_len = x.shape[1]\n",
    "        return x + self.pe[:seq_len]"
   ]
  },
  {
   "cell_type": "code",
   "execution_count": 60,
   "metadata": {},
   "outputs": [],
   "source": [
    "def single_head_attention(Q: t.Tensor, K: t.Tensor, V: t.Tensor) -> t.Tensor:\n",
    "    '''\n",
    "    Should return the results of self-attention (see the \"Self-Attention in Detail\" section of\n",
    "    the Illustrated Transformer).\n",
    "\n",
    "    With this function, you can ignore masking.\n",
    "\n",
    "    Q: shape (batch, seq_len, weights_dim)\n",
    "    K: shape (batch, seq_len, weights_dim)\n",
    "    V: shape (batch, seq_len, weights_dim)\n",
    "\n",
    "    Return: shape (batch, seq_len, weights_dim)\n",
    "    '''\n",
    "    scale = t.sqrt(t.tensor(K.shape[-1]).type(t.float32))\n",
    "    raw_attention_filter = einsum('b Q_seq_len w, b K_seq_len w -> b Q_seq_len K_seq_len', Q, K)\n",
    "    attention_filter = t.softmax(raw_attention_filter / scale, dim=-1)\n",
    "    return einsum('b out_seq_len seq_len, b seq_len w -> b out_seq_len w', attention_filter, V)\n",
    "\n",
    "\n",
    "def single_head_masked_attention(Q: t.Tensor, K: t.Tensor, V: t.Tensor) -> t.Tensor:\n",
    "    '''\n",
    "    Should return the results of masked self-attention.\n",
    "\n",
    "    See \"The Decoder Side\" section of the Illustrated Transformer for an explanation of masking.\n",
    "\n",
    "    Q: shape (batch, seq_len, weights_dim)\n",
    "    K: shape (batch, seq_len, weights_dim)\n",
    "    V: shape (batch, seq_len, weights_dim)\n",
    "\n",
    "    Return: shape (batch, seq_len, weights_dim)\n",
    "    '''\n",
    "    scale = t.sqrt(t.tensor(K.shape[-1]).type(t.float32))\n",
    "    raw_attention_filter = einsum('b Q_seq_len w, b K_seq_len w -> b Q_seq_len K_seq_len', Q, K)\n",
    "    mask_filter = t.triu(t.full_like(raw_attention_filter, -t.inf), 1)\n",
    "    masked_attention_filter = t.softmax((raw_attention_filter + mask_filter) / scale, dim=-1)\n",
    "    return einsum('b out_seq_len seq_len, b seq_len w -> b out_seq_len w', masked_attention_filter, V)"
   ]
  },
  {
   "cell_type": "code",
   "execution_count": null,
   "metadata": {},
   "outputs": [],
   "source": []
  }
 ],
 "metadata": {
  "kernelspec": {
   "display_name": "Python 3.7.12 ('arena')",
   "language": "python",
   "name": "python3"
  },
  "language_info": {
   "codemirror_mode": {
    "name": "ipython",
    "version": 3
   },
   "file_extension": ".py",
   "mimetype": "text/x-python",
   "name": "python",
   "nbconvert_exporter": "python",
   "pygments_lexer": "ipython3",
   "version": "3.7.12"
  },
  "orig_nbformat": 4,
  "vscode": {
   "interpreter": {
    "hash": "84205e65a427e19ff91dd8a92d5a5f2cf0946f21e31957c24c166022f0f50b37"
   }
  }
 },
 "nbformat": 4,
 "nbformat_minor": 2
}
