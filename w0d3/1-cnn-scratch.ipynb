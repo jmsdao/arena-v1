{
 "cells": [
  {
   "cell_type": "code",
   "execution_count": 1,
   "metadata": {},
   "outputs": [],
   "source": [
    "import torch as t\n",
    "from torch import nn\n",
    "from torch.utils.data import DataLoader\n",
    "from torchvision import datasets, transforms\n",
    "\n",
    "from einops import rearrange\n",
    "from fancy_einsum import einsum\n",
    "\n",
    "from typing import Union, Tuple, Callable, Optional\n",
    "from tqdm.notebook import tqdm_notebook\n",
    "import plotly.express as px\n",
    "\n",
    "import utils\n",
    "from scratch_cnn import *"
   ]
  },
  {
   "cell_type": "code",
   "execution_count": 2,
   "metadata": {},
   "outputs": [
    {
     "name": "stdout",
     "output_type": "stream",
     "text": [
      "ConvNet(\n",
      "  (conv1): Conv2d(in_channels=1, out_channels=32, kernel_size=3, stride=1, padding=1)\n",
      "  (relu1): ReLU()\n",
      "  (pool1): MaxPool2d(kernel_size=(2, 2), stride=None, padding=0)\n",
      "  (conv2): Conv2d(in_channels=32, out_channels=64, kernel_size=3, stride=1, padding=1)\n",
      "  (relu2): ReLU()\n",
      "  (pool2): MaxPool2d(kernel_size=(2, 2), stride=None, padding=0)\n",
      "  (flat1): Flatten(start_dim=1, end_dim=-1)\n",
      "  (fc1): Linear(in_features=3136, out_features=128, bias=True)\n",
      "  (fc2): Linear(in_features=128, out_features=10, bias=True)\n",
      ")\n"
     ]
    }
   ],
   "source": [
    "class ConvNet(nn.Module):\n",
    "    def __init__(self):\n",
    "        super().__init__()\n",
    "        self.conv1 = Conv2d(1, 32, 3, padding=1)\n",
    "        self.relu1 = ReLU()\n",
    "        self.pool1 = MaxPool2d((2, 2))\n",
    "        self.conv2 = Conv2d(32, 64, 3, padding=1)\n",
    "        self.relu2 = ReLU()\n",
    "        self.pool2 = MaxPool2d((2, 2))\n",
    "        self.flat1 = Flatten()\n",
    "        self.fc1 = Linear(3136, 128)\n",
    "        self.fc2 = Linear(128, 10)\n",
    "\n",
    "    def forward(self, x: t.Tensor) -> t.Tensor:\n",
    "        x = self.conv1(x)\n",
    "        x = self.relu1(x)\n",
    "        x = self.pool1(x)\n",
    "        x = self.conv2(x)\n",
    "        x = self.relu2(x)\n",
    "        x = self.pool2(x)\n",
    "        x = self.flat1(x)\n",
    "        x = self.fc1(x)\n",
    "        x = self.fc2(x)\n",
    "        return x\n",
    "\n",
    "model = ConvNet()\n",
    "print(model)"
   ]
  },
  {
   "cell_type": "code",
   "execution_count": 3,
   "metadata": {},
   "outputs": [],
   "source": [
    "transform = transforms.Compose([\n",
    "    transforms.ToTensor(),\n",
    "    transforms.Normalize((0.1307,), (0.3081,))\n",
    "])\n",
    "\n",
    "trainset = datasets.MNIST(root=\"./data\", train=True, transform=transform, download=True)\n",
    "trainloader = DataLoader(trainset, batch_size=64, shuffle=True)\n",
    "testset = datasets.MNIST(root=\"./data\", train=False, transform=transform)\n",
    "testloader = DataLoader(testset, batch_size=64)"
   ]
  },
  {
   "cell_type": "code",
   "execution_count": 4,
   "metadata": {},
   "outputs": [],
   "source": [
    "def train_convnet(\n",
    "    trainloader: DataLoader,\n",
    "    testloader: DataLoader,\n",
    "    epochs: int,\n",
    "    loss_fn: Callable\n",
    ") -> list:\n",
    "    '''\n",
    "    Defines a ConvNet using our previous code, and trains it on the data in trainloader.\n",
    "    '''\n",
    "\n",
    "    model = ConvNet().to(device).train()\n",
    "    optimizer = t.optim.Adam(model.parameters())\n",
    "    loss_list = []\n",
    "    accuracy_list = []\n",
    "\n",
    "    for epoch in tqdm_notebook(range(epochs)):\n",
    "\n",
    "        for (x, y) in tqdm_notebook(trainloader, leave=False):\n",
    "\n",
    "            x = x.to(device)\n",
    "            y = y.to(device)\n",
    "\n",
    "            optimizer.zero_grad()\n",
    "            y_hat = model(x)\n",
    "            loss = loss_fn(y_hat, y)\n",
    "            loss.backward()\n",
    "            optimizer.step()\n",
    "\n",
    "            loss_list.append(loss.item())\n",
    "\n",
    "        # Get test accuracy at end of epoch\n",
    "        n_correct = 0\n",
    "        for (x, y) in testloader:\n",
    "            x = x.to(device)\n",
    "            y = y.to(device)\n",
    "\n",
    "            with t.no_grad():\n",
    "                outputs = model(x)\n",
    "\n",
    "            n_correct += (outputs.argmax(dim=1) == y).sum().item()\n",
    "        accuracy = n_correct / len(testloader.dataset)\n",
    "        accuracy_list.append(accuracy)\n",
    "        print(f\"Epoch {epoch + 1}/{epochs}, train loss is {loss:.6f}, test accuracy is {accuracy:.3f}\")\n",
    "\n",
    "    print(f\"Saving model to: {MODEL_FILENAME}\")\n",
    "    t.save(model, MODEL_FILENAME)\n",
    "    return loss_list, accuracy_list"
   ]
  },
  {
   "cell_type": "code",
   "execution_count": 5,
   "metadata": {},
   "outputs": [
    {
     "data": {
      "application/vnd.jupyter.widget-view+json": {
       "model_id": "3f430969f40c44428be30ee57895cb54",
       "version_major": 2,
       "version_minor": 0
      },
      "text/plain": [
       "  0%|          | 0/3 [00:00<?, ?it/s]"
      ]
     },
     "metadata": {},
     "output_type": "display_data"
    },
    {
     "data": {
      "application/vnd.jupyter.widget-view+json": {
       "model_id": "3a8a0d33f6f14376bff4c4d49243e6c7",
       "version_major": 2,
       "version_minor": 0
      },
      "text/plain": [
       "  0%|          | 0/938 [00:00<?, ?it/s]"
      ]
     },
     "metadata": {},
     "output_type": "display_data"
    },
    {
     "name": "stdout",
     "output_type": "stream",
     "text": [
      "Epoch 1/3, train loss is 0.005420, test accuracy is 0.984\n"
     ]
    },
    {
     "data": {
      "application/vnd.jupyter.widget-view+json": {
       "model_id": "827c1efeb6354125bebbaaad875ef4f5",
       "version_major": 2,
       "version_minor": 0
      },
      "text/plain": [
       "  0%|          | 0/938 [00:00<?, ?it/s]"
      ]
     },
     "metadata": {},
     "output_type": "display_data"
    },
    {
     "name": "stdout",
     "output_type": "stream",
     "text": [
      "Epoch 2/3, train loss is 0.652638, test accuracy is 0.989\n"
     ]
    },
    {
     "data": {
      "application/vnd.jupyter.widget-view+json": {
       "model_id": "1407c73bfc54459ebf0fff268ae0c678",
       "version_major": 2,
       "version_minor": 0
      },
      "text/plain": [
       "  0%|          | 0/938 [00:00<?, ?it/s]"
      ]
     },
     "metadata": {},
     "output_type": "display_data"
    },
    {
     "name": "stdout",
     "output_type": "stream",
     "text": [
      "Epoch 3/3, train loss is 0.011326, test accuracy is 0.990\n",
      "Saving model to: ./w1d2_convnet_mnist.pt\n"
     ]
    }
   ],
   "source": [
    "epochs = 3\n",
    "loss_fn = nn.CrossEntropyLoss()\n",
    "batch_size = 128\n",
    "\n",
    "MODEL_FILENAME = \"./w1d2_convnet_scratch_mnist.pt\"\n",
    "device = \"cuda\" if t.cuda.is_available() else \"cpu\"\n",
    "\n",
    "loss_list, accuracy_list = train_convnet(trainloader, testloader, epochs, loss_fn)"
   ]
  },
  {
   "cell_type": "code",
   "execution_count": 10,
   "metadata": {},
   "outputs": [
    {
     "data": {
      "text/plain": [
       "<AxesSubplot:>"
      ]
     },
     "execution_count": 10,
     "metadata": {},
     "output_type": "execute_result"
    },
    {
     "data": {
      "image/png": "[encoded data removed]",
      "text/plain": [
       "<Figure size 640x480 with 1 Axes>"
      ]
     },
     "metadata": {},
     "output_type": "display_data"
    }
   ],
   "source": [
    "import pandas as pd\n",
    "df_loss = pd.DataFrame(data=loss_list, columns=['train_loss'])\n",
    "df_loss.plot()"
   ]
  },
  {
   "cell_type": "code",
   "execution_count": 9,
   "metadata": {},
   "outputs": [],
   "source": [
    "# utils.plot_loss_and_accuracy(loss_list, accuracy_list)"
   ]
  },
  {
   "cell_type": "code",
   "execution_count": null,
   "metadata": {},
   "outputs": [],
   "source": []
  }
 ],
 "metadata": {
  "kernelspec": {
   "display_name": "Python 3.7.12 ('arena')",
   "language": "python",
   "name": "python3"
  },
  "language_info": {
   "codemirror_mode": {
    "name": "ipython",
    "version": 3
   },
   "file_extension": ".py",
   "mimetype": "text/x-python",
   "name": "python",
   "nbconvert_exporter": "python",
   "pygments_lexer": "ipython3",
   "version": "3.7.12"
  },
  "orig_nbformat": 4,
  "vscode": {
   "interpreter": {
    "hash": "84205e65a427e19ff91dd8a92d5a5f2cf0946f21e31957c24c166022f0f50b37"
   }
  }
 },
 "nbformat": 4,
 "nbformat_minor": 2
}
