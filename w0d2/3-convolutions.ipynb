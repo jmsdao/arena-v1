{
 "cells": [
  {
   "cell_type": "code",
   "execution_count": 1,
   "metadata": {},
   "outputs": [],
   "source": [
    "import torch as t\n",
    "from fancy_einsum import einsum\n",
    "from typing import Union, Tuple, Optional\n",
    "\n",
    "import utils"
   ]
  },
  {
   "cell_type": "markdown",
   "metadata": {},
   "source": [
    "### Exercise 1"
   ]
  },
  {
   "cell_type": "code",
   "execution_count": 75,
   "metadata": {},
   "outputs": [],
   "source": [
    "def conv1d_minimal(x: t.Tensor, weights: t.Tensor) -> t.Tensor:\n",
    "    '''Like torch's conv1d using bias=False and all other keyword arguments left at their default values.\n",
    "\n",
    "    x: shape (batch, in_channels, width)\n",
    "    weights: shape (out_channels, in_channels, kernel_width)\n",
    "\n",
    "    Returns: shape (batch, out_channels, output_width)\n",
    "    '''\n",
    "    b, ic, iw = x.shape         # batch, in_channels, input_width\n",
    "    oc, ic, kw = weights.shape  # out_channels, in_channels, kernel_width\n",
    "    ow = iw - kw + 1            # output_width\n",
    "\n",
    "    bs, ics, iws = x.stride()   # batch_stride, input_channel_stride, input_width_stride\n",
    "    x_strided = x.as_strided(size=(b, ic, ow, kw), stride=(bs, ics, iws, iws))\n",
    "\n",
    "    return einsum('b ic ow kw, oc ic kw -> b oc ow', x_strided, weights)\n",
    "\n",
    "utils.test_conv1d_minimal(conv1d_minimal)"
   ]
  },
  {
   "cell_type": "markdown",
   "metadata": {},
   "source": [
    "### Exercise 2"
   ]
  },
  {
   "cell_type": "code",
   "execution_count": 20,
   "metadata": {},
   "outputs": [],
   "source": [
    "def conv2d_minimal(x: t.Tensor, weights: t.Tensor) -> t.Tensor:\n",
    "    '''Like torch's conv2d using bias=False and all other keyword arguments left at their default values.\n",
    "\n",
    "    x: shape (batch, in_channels, height, width)\n",
    "    weights: shape (out_channels, in_channels, kernel_height, kernel_width)\n",
    "\n",
    "    Returns: shape (batch, out_channels, output_height, output_width)\n",
    "    '''\n",
    "    b, ic, ih, iw = x.shape         # batch, in_channels, input_height, input_width\n",
    "    oc, ic, kh, kw = weights.shape  # out_channels, in_channels, kernel_height, kernel_width\n",
    "    oh = ih - kh + 1                # output_height\n",
    "    ow = iw - kw + 1                # output_width\n",
    "\n",
    "    bs, ics, ihs, iws = x.stride()  # batch_stride, input_channel_stride, input_height_stride, input_width_stride\n",
    "    x_strided = x.as_strided(size=(b, ic, oh, ow, kh, kw), stride=(bs, ics, ihs, iws, ihs, iws))\n",
    "\n",
    "    return einsum('b ic oh ow kh kw, oc ic kh kw -> b oc oh ow', x_strided, weights)\n",
    "\n",
    "utils.test_conv2d_minimal(conv2d_minimal)"
   ]
  },
  {
   "cell_type": "markdown",
   "metadata": {},
   "source": [
    "### Exercise 3"
   ]
  },
  {
   "cell_type": "code",
   "execution_count": 43,
   "metadata": {},
   "outputs": [],
   "source": [
    "def pad1d(x: t.Tensor, left: int, right: int, pad_value: float) -> t.Tensor:\n",
    "    '''Return a new tensor with padding applied to the edges.\n",
    "\n",
    "    x: shape (batch, in_channels, width), dtype float32\n",
    "\n",
    "    Return: shape (batch, in_channels, left + right + width)\n",
    "    '''\n",
    "    b, c, w = x.shape\n",
    "    x_padded = x.new_full((b, c, left + w + right), pad_value)\n",
    "    x_padded[:, :, left:left+w] = x\n",
    "    return x_padded\n",
    "\n",
    "\n",
    "utils.test_pad1d(pad1d)\n",
    "utils.test_pad1d_multi_channel(pad1d)"
   ]
  },
  {
   "cell_type": "code",
   "execution_count": 51,
   "metadata": {},
   "outputs": [],
   "source": [
    "def pad2d(x: t.Tensor, left: int, right: int, top: int, bottom: int, pad_value: float) -> t.Tensor:\n",
    "    '''Return a new tensor with padding applied to the edges.\n",
    "\n",
    "    x: shape (batch, in_channels, height, width), dtype float32\n",
    "\n",
    "    Return: shape (batch, in_channels, top + height + bottom, left + width + right)\n",
    "    '''\n",
    "    b, c, h, w = x.shape\n",
    "    x_padded = x.new_full((b, c, top + h + bottom, left + w + right), pad_value)\n",
    "    x_padded[:, :, top:top+h, left:left+w] = x\n",
    "    return x_padded\n",
    "\n",
    "utils.test_pad2d(pad2d)\n",
    "utils.test_pad2d_multi_channel(pad2d)"
   ]
  },
  {
   "cell_type": "markdown",
   "metadata": {},
   "source": [
    "### Exercise 4"
   ]
  },
  {
   "cell_type": "code",
   "execution_count": 92,
   "metadata": {},
   "outputs": [],
   "source": [
    "def conv1d(x, weights, stride: int = 1, padding: int = 0) -> t.Tensor:\n",
    "    '''Like torch's conv1d using bias=False.\n",
    "\n",
    "    x: shape (batch, in_channels, width)\n",
    "    weights: shape (out_channels, in_channels, kernel_width)\n",
    "\n",
    "    Returns: shape (batch, out_channels, output_width)\n",
    "    '''\n",
    "    x = pad1d(x, padding, padding, 0)\n",
    "    \n",
    "    b, ic, iw = x.shape           # batch, in_channels, input_width\n",
    "    oc, ic, kw = weights.shape    # out_channels, in_channels, kernel_width\n",
    "    ow = (iw - kw) // stride + 1  # output_width\n",
    "    \n",
    "\n",
    "    bs, ics, iws = x.stride()     # batch_stride, input_channel_stride, input_width_stride\n",
    "    x_strided = x.as_strided(size=(b, ic, ow, kw), stride=(bs, ics, stride, iws))\n",
    "    return einsum('b ic ow kw, oc ic kw -> b oc ow', x_strided, weights)\n",
    "\n",
    "utils.test_conv1d(conv1d)"
   ]
  },
  {
   "cell_type": "code",
   "execution_count": 97,
   "metadata": {},
   "outputs": [],
   "source": [
    "IntOrPair = Union[int, Tuple[int, int]]\n",
    "Pair = Tuple[int, int]\n",
    "\n",
    "def force_pair(v: IntOrPair) -> Pair:\n",
    "    '''Convert v to a pair of int, if it isn't already.'''\n",
    "    if isinstance(v, tuple):\n",
    "        if len(v) != 2:\n",
    "            raise ValueError(v)\n",
    "        return (int(v[0]), int(v[1]))\n",
    "    elif isinstance(v, int):\n",
    "        return (v, v)\n",
    "    raise ValueError(v)\n",
    "\n",
    "# Examples of how this function can be used:\n",
    "#       force_pair((1, 2))     ->  (1, 2)\n",
    "#       force_pair(2)          ->  (2, 2)\n",
    "#       force_pair((1, 2, 3))  ->  ValueError"
   ]
  },
  {
   "cell_type": "code",
   "execution_count": 102,
   "metadata": {},
   "outputs": [],
   "source": [
    "def conv2d(x, weights, stride: IntOrPair = 1, padding: IntOrPair = 0) -> t.Tensor:\n",
    "    '''Like torch's conv2d using bias=False\n",
    "\n",
    "    x: shape (batch, in_channels, height, width)\n",
    "    weights: shape (out_channels, in_channels, kernel_height, kernel_width)\n",
    "\n",
    "    Returns: shape (batch, out_channels, output_height, output_width)\n",
    "    '''\n",
    "    padding_h, padding_w = force_pair(padding)\n",
    "    stride_h, stride_w = force_pair(stride)\n",
    "    \n",
    "    x = pad2d(x, padding_w, padding_w, padding_h, padding_h, 0)\n",
    "    \n",
    "    b, ic, ih, iw = x.shape         # batch, in_channels, input_height, input_width\n",
    "    oc, ic, kh, kw = weights.shape  # out_channels, in_channels, kernel_height, kernel_width\n",
    "    oh = (ih - kh) // stride_h + 1  # output_height\n",
    "    ow = (iw - kw) // stride_w + 1  # output_width\n",
    "\n",
    "    bs, ics, ihs, iws = x.stride()  # batch_stride, input_channel_stride, input_height_stride, input_width_stride\n",
    "    x_strided = x.as_strided(\n",
    "        size=(b, ic, oh, ow, kh, kw),\n",
    "        stride=(bs, ics, ihs * stride_h, iws * stride_w, ihs, iws)\n",
    "    )\n",
    "\n",
    "    return einsum('b ic oh ow kh kw, oc ic kh kw -> b oc oh ow', x_strided, weights)\n",
    "\n",
    "utils.test_conv2d(conv2d)"
   ]
  },
  {
   "cell_type": "markdown",
   "metadata": {},
   "source": [
    "### Exercise 5"
   ]
  },
  {
   "cell_type": "code",
   "execution_count": 159,
   "metadata": {},
   "outputs": [],
   "source": [
    "def maxpool2d(x: t.Tensor, kernel_size: IntOrPair, stride: Optional[IntOrPair] = None, padding: IntOrPair = 0\n",
    ") -> t.Tensor:\n",
    "    '''Like PyTorch's maxpool2d.\n",
    "\n",
    "    x: shape (batch, channels, height, width)\n",
    "    stride: if None, should be equal to the kernel size\n",
    "\n",
    "    Return: (batch, channels, out_height, output_width)\n",
    "    '''\n",
    "    if stride is None:\n",
    "        stride = kernel_size\n",
    "\n",
    "    kh, kw = force_pair(kernel_size)\n",
    "    padding_h, padding_w = force_pair(padding)\n",
    "    stride_h, stride_w = force_pair(stride)\n",
    "    \n",
    "    x = pad2d(x, padding_w, padding_w, padding_h, padding_h, -t.inf)\n",
    "    \n",
    "    b, ic, ih, iw = x.shape         # batch, in_channels, input_height, input_width\n",
    "    oh = (ih - kh) // stride_h + 1  # output_height\n",
    "    ow = (iw - kw) // stride_w + 1  # output_width\n",
    "\n",
    "    bs, ics, ihs, iws = x.stride()  # batch_stride, input_channel_stride, input_height_stride, input_width_stride\n",
    "    x_strided = x.as_strided(\n",
    "        size=(b, ic, oh, ow, kh, kw),\n",
    "        stride=(bs, ics, ihs * stride_h, iws * stride_w, ihs, iws)\n",
    "    )\n",
    "\n",
    "    return x_strided.amax((-1, -2))\n",
    "\n",
    "utils.test_maxpool2d(maxpool2d)"
   ]
  },
  {
   "cell_type": "code",
   "execution_count": null,
   "metadata": {},
   "outputs": [],
   "source": []
  }
 ],
 "metadata": {
  "kernelspec": {
   "display_name": "Python 3.7.12 ('arena')",
   "language": "python",
   "name": "python3"
  },
  "language_info": {
   "codemirror_mode": {
    "name": "ipython",
    "version": 3
   },
   "file_extension": ".py",
   "mimetype": "text/x-python",
   "name": "python",
   "nbconvert_exporter": "python",
   "pygments_lexer": "ipython3",
   "version": "3.7.12"
  },
  "orig_nbformat": 4,
  "vscode": {
   "interpreter": {
    "hash": "84205e65a427e19ff91dd8a92d5a5f2cf0946f21e31957c24c166022f0f50b37"
   }
  }
 },
 "nbformat": 4,
 "nbformat_minor": 2
}
