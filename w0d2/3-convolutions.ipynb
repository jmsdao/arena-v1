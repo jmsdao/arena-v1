{
 "cells": [
  {
   "cell_type": "code",
   "execution_count": 31,
   "metadata": {},
   "outputs": [],
   "source": [
    "import torch as t\n",
    "from fancy_einsum import einsum\n",
    "\n",
    "import utils"
   ]
  },
  {
   "cell_type": "code",
   "execution_count": 51,
   "metadata": {},
   "outputs": [],
   "source": [
    "def conv1d_minimal(x: t.Tensor, weights: t.Tensor) -> t.Tensor:\n",
    "    '''Like torch's conv1d using bias=False and all other keyword arguments left at their default values.\n",
    "\n",
    "    x: shape (batch, in_channels, width)\n",
    "    weights: shape (out_channels, in_channels, kernel_width)\n",
    "\n",
    "    Returns: shape (batch, out_channels, output_width)\n",
    "    '''\n",
    "    b, ic, iw = x.shape         # batch, in_channels, input_width\n",
    "    oc, ic, kw = weights.shape  # out_channels, in_channels, kernel_width)\n",
    "    ow = iw - kw + 1            # output_width\n",
    "\n",
    "    bs, ics, iws = x.stride()    # batch_stride, input_channel_stride, input_width_stride\n",
    "    x_strided = x.as_strided(size=(b, ic, ow, kw), stride=(bs, ics, iws, iws))\n",
    "\n",
    "    return einsum('b ic ow kw, oc ic kw -> b oc ow', x_strided, weights)\n",
    "\n",
    "utils.test_conv1d_minimal(conv1d_minimal)"
   ]
  },
  {
   "cell_type": "code",
   "execution_count": null,
   "metadata": {},
   "outputs": [],
   "source": []
  },
  {
   "cell_type": "code",
   "execution_count": null,
   "metadata": {},
   "outputs": [],
   "source": []
  },
  {
   "cell_type": "code",
   "execution_count": null,
   "metadata": {},
   "outputs": [],
   "source": []
  },
  {
   "cell_type": "code",
   "execution_count": null,
   "metadata": {},
   "outputs": [],
   "source": []
  }
 ],
 "metadata": {
  "kernelspec": {
   "display_name": "Python 3.7.12 ('arena')",
   "language": "python",
   "name": "python3"
  },
  "language_info": {
   "codemirror_mode": {
    "name": "ipython",
    "version": 3
   },
   "file_extension": ".py",
   "mimetype": "text/x-python",
   "name": "python",
   "nbconvert_exporter": "python",
   "pygments_lexer": "ipython3",
   "version": "3.7.12"
  },
  "orig_nbformat": 4,
  "vscode": {
   "interpreter": {
    "hash": "84205e65a427e19ff91dd8a92d5a5f2cf0946f21e31957c24c166022f0f50b37"
   }
  }
 },
 "nbformat": 4,
 "nbformat_minor": 2
}
