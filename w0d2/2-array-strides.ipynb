{
 "cells": [
  {
   "cell_type": "code",
   "execution_count": 46,
   "metadata": {},
   "outputs": [],
   "source": [
    "import torch as t\n",
    "from collections import namedtuple\n",
    "\n",
    "import utils"
   ]
  },
  {
   "cell_type": "code",
   "execution_count": 9,
   "metadata": {},
   "outputs": [
    {
     "data": {
      "text/plain": [
       "(torch.Size([4, 5]), (5, 1))"
      ]
     },
     "execution_count": 9,
     "metadata": {},
     "output_type": "execute_result"
    }
   ],
   "source": [
    "test_input = t.tensor(\n",
    "    [[0, 1, 2, 3, 4], \n",
    "    [5, 6, 7, 8, 9], \n",
    "    [10, 11, 12, 13, 14], \n",
    "    [15, 16, 17, 18, 19]], dtype=t.float\n",
    ")\n",
    "\n",
    "test_input.shape, test_input.stride()"
   ]
  },
  {
   "cell_type": "code",
   "execution_count": 25,
   "metadata": {},
   "outputs": [
    {
     "name": "stdout",
     "output_type": "stream",
     "text": [
      "Test 0 passed!\n",
      "Test 1 passed!\n",
      "Test 2 passed!\n",
      "Test 3 passed!\n",
      "Test 4 passed!\n",
      "Test 5 passed!\n",
      "Test 6 passed!\n",
      "Test 7 passed!\n",
      "Test 8 passed!\n"
     ]
    }
   ],
   "source": [
    "TestCase = namedtuple(\"TestCase\", [\"output\", \"size\", \"stride\"])\n",
    "\n",
    "test_cases = [\n",
    "    TestCase(\n",
    "        output=t.tensor([0, 1, 2, 3]), \n",
    "        size=(4,), \n",
    "        stride=(1,)),\n",
    "    TestCase(\n",
    "        output=t.tensor([0, 1, 2, 3, 4]), \n",
    "        size=(5,), \n",
    "        stride=(1,)),\n",
    "    TestCase(\n",
    "        output=t.tensor([0, 5, 10, 15]), \n",
    "        size=(4,), \n",
    "        stride=(5,)),\n",
    "    TestCase(\n",
    "        output=t.tensor([[0, 1, 2], [5, 6, 7]]), \n",
    "        size=(2, 3), \n",
    "        stride=(5, 1)),\n",
    "    TestCase(\n",
    "        output=t.tensor([[0, 1, 2], [10, 11, 12]]), \n",
    "        size=(2, 3), \n",
    "        stride=(10, 1)),\n",
    "    TestCase(\n",
    "        output=t.tensor([[0, 0, 0], [11, 11, 11]]), \n",
    "        size=(2, 3), \n",
    "        stride=(11, 0)),   \n",
    "    TestCase(\n",
    "        output=t.tensor([0, 6, 12, 18]), \n",
    "        size=(4,), \n",
    "        stride=(6,)),\n",
    "    TestCase(\n",
    "        output=t.tensor([[[0, 1, 2]], [[9, 10, 11]]]), \n",
    "        size=(2, 1, 3), \n",
    "        stride=(9, 0, 1)),\n",
    "    TestCase(\n",
    "        output=t.tensor([[[[0, 1], [2, 3]], [[4, 5], [6, 7]]], [[[12, 13], [14, 15]], [[16, 17], [18, 19]]]]),\n",
    "        size=(2, 2, 2, 2),\n",
    "        stride=(12, 4, 2, 1)),\n",
    "]\n",
    "for (i, case) in enumerate(test_cases):\n",
    "    if (case.size is None) or (case.stride is None):\n",
    "        print(f\"Test {i} failed: attempt missing.\")\n",
    "    else:\n",
    "        actual = test_input.as_strided(size=case.size, stride=case.stride)\n",
    "        if (case.output != actual).any():\n",
    "            print(f\"Test {i} failed:\")\n",
    "            print(f\"Expected: {case.output}\")\n",
    "            print(f\"Actual: {actual}\")\n",
    "        else:\n",
    "            print(f\"Test {i} passed!\")"
   ]
  },
  {
   "cell_type": "code",
   "execution_count": 47,
   "metadata": {},
   "outputs": [],
   "source": [
    "def as_strided_trace(mat: t.Tensor) -> t.Tensor:\n",
    "    '''\n",
    "    Returns the same as `torch.trace`, using only `as_strided` and `sum` methods.\n",
    "    '''\n",
    "    n = mat.shape[-1]\n",
    "    return mat.as_strided(size=(n,), stride=(n+1,)).sum()\n",
    "\n",
    "utils.test_trace(as_strided_trace)"
   ]
  }
 ],
 "metadata": {
  "kernelspec": {
   "display_name": "Python 3.7.12 ('arena')",
   "language": "python",
   "name": "python3"
  },
  "language_info": {
   "codemirror_mode": {
    "name": "ipython",
    "version": 3
   },
   "file_extension": ".py",
   "mimetype": "text/x-python",
   "name": "python",
   "nbconvert_exporter": "python",
   "pygments_lexer": "ipython3",
   "version": "3.7.12"
  },
  "orig_nbformat": 4,
  "vscode": {
   "interpreter": {
    "hash": "84205e65a427e19ff91dd8a92d5a5f2cf0946f21e31957c24c166022f0f50b37"
   }
  }
 },
 "nbformat": 4,
 "nbformat_minor": 2
}
